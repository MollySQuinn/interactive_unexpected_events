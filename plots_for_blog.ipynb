{
 "cells": [
  {
   "cell_type": "markdown",
   "id": "5a0433fd",
   "metadata": {},
   "source": [
    "To do: \n",
    "* add in material scenario to expt1\n",
    "* fix the spacing for plots with only one brace\n",
    "* implement expt2 graphs"
   ]
  },
  {
   "cell_type": "code",
   "execution_count": 1,
   "id": "4acd3829",
   "metadata": {
    "slideshow": {
     "slide_type": "skip"
    }
   },
   "outputs": [],
   "source": [
    "#some basic imports\n",
    "import os\n",
    "import pandas as pd\n",
    "import numpy as np\n",
    "\n",
    "#plot-specific imports\n",
    "from plotly.subplots import make_subplots\n",
    "import plotly.graph_objects as go\n",
    "import plotly.express as px\n",
    "\n",
    "#dashboard imports\n",
    "from jupyter_dash import JupyterDash\n",
    "import dash\n",
    "import dash_bootstrap_components as dbc\n",
    "import dash_core_components as dcc\n",
    "import dash_html_components as html\n",
    "import pandas as pd"
   ]
  },
  {
   "cell_type": "code",
   "execution_count": 2,
   "id": "f46e6cda",
   "metadata": {},
   "outputs": [],
   "source": [
    "# suppress logs unless error\n",
    "import logging\n",
    "log = logging.getLogger('werkzeug')\n",
    "log.setLevel(logging.ERROR)"
   ]
  },
  {
   "cell_type": "code",
   "execution_count": 3,
   "id": "f1a2aed0",
   "metadata": {
    "scrolled": true,
    "slideshow": {
     "slide_type": "skip"
    }
   },
   "outputs": [
    {
     "data": {
      "text/plain": [
       "'/Users/mollyq/Documents/GitHub/interactive_unexpected_events'"
      ]
     },
     "execution_count": 3,
     "metadata": {},
     "output_type": "execute_result"
    }
   ],
   "source": [
    "#set working directory to top level file\n",
    "os.chdir('/Users/mollyq/Documents/GitHub/interactive_unexpected_events')\n",
    "os.getcwd()"
   ]
  },
  {
   "cell_type": "markdown",
   "id": "c91e3571",
   "metadata": {
    "hide_input": true,
    "slideshow": {
     "slide_type": "slide"
    }
   },
   "source": [
    "## Define Functions to Make the Plots and Draw Braces"
   ]
  },
  {
   "cell_type": "code",
   "execution_count": 4,
   "id": "3db37b58",
   "metadata": {
    "slideshow": {
     "slide_type": "skip"
    }
   },
   "outputs": [],
   "source": [
    "# draw braces on the dot plots to nicely label the proportion/percent of responses\n",
    "def draw_plotly_brace(fig, yspan, ylim, xlim, xx, spec_color, direction=\"left\"):\n",
    "    \"\"\"Draws an annotated brace on the axes.\"\"\"\n",
    "    ymin, ymax = yspan\n",
    "    yspan = ymax - ymin\n",
    "    ax_ymin = 0\n",
    "    ax_ymax = ylim\n",
    "    yax_span = ax_ymax - ax_ymin\n",
    "\n",
    "    xmin = 0\n",
    "    xmax = xlim\n",
    "    xspan = xmax - xmin\n",
    "    resolution = int(yspan/yax_span*100)*2+1 # guaranteed uneven\n",
    "    beta = 300./yax_span # the higher this is, the smaller the radius\n",
    "\n",
    "    y = np.linspace(ymin, ymax, resolution)\n",
    "    y_half = y[:int(resolution/2)+1]\n",
    "    if direction == \"left\":\n",
    "        x_half_brace = -(\n",
    "            1/(1.+np.exp(-beta*(y_half-y_half[0])))\n",
    "                        + 1/(1.+np.exp(-beta*(y_half-y_half[-1])))\n",
    "                       )\n",
    "    else:\n",
    "        x_half_brace = (\n",
    "            1/(1.+np.exp(-beta*(y_half-y_half[0])))\n",
    "                        + 1/(1.+np.exp(-beta*(y_half-y_half[-1])))\n",
    "                       )\n",
    "    \n",
    "    x = np.concatenate((x_half_brace, x_half_brace[-2::-1]))\n",
    "    x = xx + (.05*x - .01)*xspan # adjust vertical position\n",
    "    \n",
    "    fig.add_trace(go.Scatter(\n",
    "        x=x, y=y,\n",
    "        mode='lines',\n",
    "        line = dict(color=spec_color)\n",
    "        \n",
    "    )\n",
    "                 )\n"
   ]
  },
  {
   "cell_type": "code",
   "execution_count": 51,
   "id": "0a1831d3",
   "metadata": {},
   "outputs": [],
   "source": [
    "#define a function that gets the labels\n",
    "def get_hover_text(data_for_labels, material, cond, name):\n",
    "    hover = [] \n",
    "    if 'val_code' in data_for_labels.columns:\n",
    "        dataframe = data_for_labels[\n",
    "        (data_for_labels['material']==material) &\n",
    "        (data_for_labels['cond']==cond) &\n",
    "        (data_for_labels['val_code']==name)]\n",
    "    elif 'best_senti' in data_for_labels:\n",
    "        dataframe = data_for_labels[\n",
    "        (data_for_labels['material']==material) &\n",
    "        (data_for_labels['var_feature1']==cond) &\n",
    "        (data_for_labels['best_senti']==name)]\n",
    "    for item in dataframe['answer_text'].str.wrap(30).apply(lambda x: x.replace('\\n', '<br>')):\n",
    "            hover.append(item)\n",
    "        \n",
    "    return hover"
   ]
  },
  {
   "cell_type": "code",
   "execution_count": 76,
   "id": "31811645",
   "metadata": {
    "slideshow": {
     "slide_type": "skip"
    }
   },
   "outputs": [],
   "source": [
    "# Make a valence-specific Dot Plot.\n",
    "def val_freq_plot(data, material, cond, data_for_labels, Xlim, title='', x_block_size=20, y_block_size=4, gap_size=0.5, w=18, h=12.5, brace_space_left=0,brace_space_right=1):\n",
    "    ds = data.loc[material,cond]\n",
    "    ds = ds.fillna(0)\n",
    "    symbols = {'neither':['circle-open','black'],\n",
    "               'neg':['circle','red'],\n",
    "               'pos':['circle','yellowgreen']}  # 😀\n",
    "    \n",
    "#     print(sum(ds))\n",
    "\n",
    "    braces_lim={}\n",
    "    annot = {}\n",
    "    \n",
    "    Xlim = Xlim\n",
    "    Ylim = (sum(ds)//Xlim)\n",
    "    Ylim = Ylim + (Ylim//y_block_size)*gap_size\n",
    "\n",
    "        \n",
    "    Ypos = 0\n",
    "    Xpos = 0 ##change to zero for upwards\n",
    "    series = []\n",
    "\n",
    "    \n",
    "    ygaps=np.arange(y_block_size, Ylim, y_block_size + gap_size)#[4,8+1,12+2,16+3,20+4,24+5,28+6,32+7,36+8,40+9]:  #43+10=53\n",
    "\n",
    "    braces_lim={}\n",
    "\n",
    "    if x_block_size < Xlim:\n",
    "        Xlim = Xlim + (Xlim//x_block_size)*gap_size\n",
    "        xgaps=np.arange(x_block_size, Xlim, x_block_size+gap_size)\n",
    "        print(xgaps)\n",
    "    else:\n",
    "        xgaps=np.array([])\n",
    "    \n",
    "    \n",
    "    for name, count in ds.iteritems():\n",
    "        x = []\n",
    "        y = []        \n",
    "#         first add name1 then name2\n",
    "        hover = get_hover_text(data_for_labels, material, cond, name)\n",
    "        \n",
    "        for j in range(0, int(count)):\n",
    "\n",
    "            if Xpos in xgaps:\n",
    "                Xpos += gap_size\n",
    "                \n",
    "            if Xpos == Xlim:\n",
    "                Xpos = 0\n",
    "                Ypos += 1 ##change to positive for upwards\n",
    "            \n",
    "            if Ypos in ygaps:\n",
    "                Ypos += gap_size\n",
    "                \n",
    "            y.append(Ypos)\n",
    "            x.append(Xpos)\n",
    "            Xpos += 1\n",
    "            \n",
    "            if Xpos == Xlim:\n",
    "                Xpos = 0\n",
    "                Ypos += 1 ##change to positive for upwards\n",
    "\n",
    "        if len(y):\n",
    "            braces_lim[name]=(min(y)-0.5,max(y)+0.5)\n",
    "        else:\n",
    "            continue\n",
    "\n",
    "\n",
    "        \n",
    "        annot[name]=int(round((100*(count/ds.sum()))))\n",
    "        \n",
    "        series.append(go.Scatter(x=x, y=y,\n",
    "                                 hovertext = hover,\n",
    "                                 hoverinfo=\"text\",\n",
    "    #                              mode='text', \n",
    "    #                              text=[symbols[name][0]]*len(x),\n",
    "    #                              textfont= {\n",
    "    #                                     'size': 30,\n",
    "    #                                     'color': symbols[name][1]\n",
    "    #                                   },\n",
    "                                 mode='markers',\n",
    "                                 marker={'symbol': symbols[name][0], \n",
    "                                         'size': 20, \n",
    "                                         'color':symbols[name][1],\n",
    "                                        'line':dict(\n",
    "                                            color='black',\n",
    "                                            width=0.4\n",
    "                                        )\n",
    "                                         },\n",
    "                                 name=f'{name} ({count})'\n",
    "                                )\n",
    "                            )\n",
    "\n",
    "\n",
    "    fig = go.Figure(dict(data=series, layout=go.Layout(\n",
    "    #     title={'text': title, 'x': 0.5, 'xanchor': 'center'},\n",
    "        paper_bgcolor='rgba(255,255,255,1)',\n",
    "        plot_bgcolor='rgba(0,0,0,0)',\n",
    "        xaxis=dict(showgrid=False,zeroline= False, showline=False, visible=False, showticklabels=False),\n",
    "        yaxis=dict(showgrid=False,zeroline= False, showline=False, visible=False, showticklabels=False),\n",
    "    )))\n",
    "\n",
    "    # ## Create the curly brace, thanks to https://stackoverflow.com/a/61454455 and https://stackoverflow.com/a/53383764/9600186 ##\n",
    "    if 'neg' in braces_lim:\n",
    "        draw_plotly_brace(fig=fig, yspan=(braces_lim['neg']), ylim=Ylim, xlim=Xlim, xx=brace_space_left, direction=\"left\", spec_color='red')\n",
    "        fig.add_annotation(text=f\"{annot['neg']}%\",\n",
    "                                    x=-2, y=sum(braces_lim['neg'])/2,\n",
    "                                    showarrow=False,\n",
    "                                    textangle=-90,\n",
    "                           font=dict(\n",
    "                                    family=\"Arial\",\n",
    "                                    size=16,\n",
    "                                )\n",
    "                            )\n",
    "    if 'pos' in braces_lim:\n",
    "        draw_plotly_brace(fig=fig, yspan=(braces_lim['pos']), ylim=Ylim, xlim=Xlim, xx=Xlim-brace_space_right, direction=\"right\",spec_color='yellowgreen')\n",
    "        fig.add_annotation(text=f\"{annot['pos']}%\",\n",
    "                            x=Xlim+1, y=sum(braces_lim['pos'])/2,\n",
    "                            showarrow=False,\n",
    "                            textangle=-90,\n",
    "                          font=dict(\n",
    "                                    family=\"Arial\",\n",
    "                                    size=16,\n",
    "                                )\n",
    "                          )\n",
    "\n",
    "        \n",
    "    fig.update_xaxes(\n",
    "        scaleanchor = \"y\",\n",
    "        scaleratio = 1,\n",
    "    )\n",
    "    \n",
    "    fig.update_yaxes(\n",
    "        range=[-1, Ylim+1], \n",
    "        constrain='domain'\n",
    "      )\n",
    "    \n",
    "    fig.update_layout(\n",
    "        title=title,\n",
    "        width=Xlim*w,\n",
    "        height=Ylim*h,\n",
    "        showlegend=False,\n",
    "    #remove some margin so the graph fits nicer in latex\n",
    "        margin_l=0, #left margin\n",
    "        margin_r=0, #right margin\n",
    "        margin_b=0, #bottom margin\n",
    "        margin_t=30, #top margin\n",
    "    )\n",
    "\n",
    "    \n",
    "#     print(ygaps)\n",
    "#     print(Xlim)\n",
    "#     print(Ylim)\n",
    "#     print(fig.layout)\n",
    "#     fig.write_image(file=f\"3_output/{title}_fig.svg\")\n",
    "    return fig"
   ]
  },
  {
   "cell_type": "markdown",
   "id": "19eb27d0",
   "metadata": {},
   "source": [
    "# Experiment 1: Predicting Unexpected Events"
   ]
  },
  {
   "cell_type": "markdown",
   "id": "a597cd8c",
   "metadata": {},
   "source": [
    "## Get data, set up materials list, etc."
   ]
  },
  {
   "cell_type": "code",
   "execution_count": 41,
   "id": "eb997097",
   "metadata": {
    "slideshow": {
     "slide_type": "skip"
    }
   },
   "outputs": [
    {
     "data": {
      "text/html": [
       "<div>\n",
       "<style scoped>\n",
       "    .dataframe tbody tr th:only-of-type {\n",
       "        vertical-align: middle;\n",
       "    }\n",
       "\n",
       "    .dataframe tbody tr th {\n",
       "        vertical-align: top;\n",
       "    }\n",
       "\n",
       "    .dataframe thead th {\n",
       "        text-align: right;\n",
       "    }\n",
       "</style>\n",
       "<table border=\"1\" class=\"dataframe\">\n",
       "  <thead>\n",
       "    <tr style=\"text-align: right;\">\n",
       "      <th></th>\n",
       "      <th>Unnamed: 0</th>\n",
       "      <th>expt</th>\n",
       "      <th>cond</th>\n",
       "      <th>var_feature1</th>\n",
       "      <th>user_id</th>\n",
       "      <th>material</th>\n",
       "      <th>material_variant</th>\n",
       "      <th>answer_text</th>\n",
       "      <th>rater_order</th>\n",
       "      <th>all_ans_codes</th>\n",
       "      <th>...</th>\n",
       "      <th>all_obj_js</th>\n",
       "      <th>best_senti</th>\n",
       "      <th>best_obj</th>\n",
       "      <th>best_ans</th>\n",
       "      <th>order</th>\n",
       "      <th>comment</th>\n",
       "      <th>pos</th>\n",
       "      <th>neg</th>\n",
       "      <th>neither</th>\n",
       "      <th>resolve</th>\n",
       "    </tr>\n",
       "  </thead>\n",
       "  <tbody>\n",
       "    <tr>\n",
       "      <th>0</th>\n",
       "      <td>0</td>\n",
       "      <td>NaN</td>\n",
       "      <td>NaN</td>\n",
       "      <td>NaN</td>\n",
       "      <td>NaN</td>\n",
       "      <td>NaN</td>\n",
       "      <td>NaN</td>\n",
       "      <td>NaN</td>\n",
       "      <td>NaN</td>\n",
       "      <td>NaN</td>\n",
       "      <td>...</td>\n",
       "      <td>NaN</td>\n",
       "      <td>NaN</td>\n",
       "      <td>NaN</td>\n",
       "      <td>NaN</td>\n",
       "      <td>NaN</td>\n",
       "      <td>NaN</td>\n",
       "      <td>0</td>\n",
       "      <td>0</td>\n",
       "      <td>0</td>\n",
       "      <td>0</td>\n",
       "    </tr>\n",
       "    <tr>\n",
       "      <th>1</th>\n",
       "      <td>1</td>\n",
       "      <td>expt1</td>\n",
       "      <td>cond1a</td>\n",
       "      <td>UNEXP</td>\n",
       "      <td>54468870fdf99b648b6a5c69</td>\n",
       "      <td>alan_plane</td>\n",
       "      <td>non-goal</td>\n",
       "      <td>He has forgotten his passport</td>\n",
       "      <td>mk kc mq</td>\n",
       "      <td>ap_neg_ans3 ap_neg_ans3 ap_neg_ans3</td>\n",
       "      <td>...</td>\n",
       "      <td>neither_obj neither_obj neither_obj</td>\n",
       "      <td>neg</td>\n",
       "      <td>neither_obj</td>\n",
       "      <td>ap_neg_ans3</td>\n",
       "      <td>to_do</td>\n",
       "      <td>NaN</td>\n",
       "      <td>0</td>\n",
       "      <td>1</td>\n",
       "      <td>0</td>\n",
       "      <td>0</td>\n",
       "    </tr>\n",
       "    <tr>\n",
       "      <th>2</th>\n",
       "      <td>2</td>\n",
       "      <td>NaN</td>\n",
       "      <td>NaN</td>\n",
       "      <td>NaN</td>\n",
       "      <td>NaN</td>\n",
       "      <td>NaN</td>\n",
       "      <td>NaN</td>\n",
       "      <td>NaN</td>\n",
       "      <td>NaN</td>\n",
       "      <td>NaN</td>\n",
       "      <td>...</td>\n",
       "      <td>NaN</td>\n",
       "      <td>NaN</td>\n",
       "      <td>NaN</td>\n",
       "      <td>NaN</td>\n",
       "      <td>NaN</td>\n",
       "      <td>NaN</td>\n",
       "      <td>0</td>\n",
       "      <td>0</td>\n",
       "      <td>0</td>\n",
       "      <td>0</td>\n",
       "    </tr>\n",
       "    <tr>\n",
       "      <th>3</th>\n",
       "      <td>3</td>\n",
       "      <td>expt1</td>\n",
       "      <td>cond1a</td>\n",
       "      <td>UNEXP</td>\n",
       "      <td>561f168fed6e5a000fc7e90c</td>\n",
       "      <td>alan_plane</td>\n",
       "      <td>non-goal</td>\n",
       "      <td>His flight is delayed.</td>\n",
       "      <td>mk kc mq</td>\n",
       "      <td>ap_neg_ans6 ap_neg_ans6 ap_neg_ans6</td>\n",
       "      <td>...</td>\n",
       "      <td>goal_obj neither_obj goal_obj</td>\n",
       "      <td>neg</td>\n",
       "      <td>goal_obj</td>\n",
       "      <td>ap_neg_ans6</td>\n",
       "      <td>to_do</td>\n",
       "      <td>NaN</td>\n",
       "      <td>0</td>\n",
       "      <td>1</td>\n",
       "      <td>0</td>\n",
       "      <td>0</td>\n",
       "    </tr>\n",
       "    <tr>\n",
       "      <th>4</th>\n",
       "      <td>4</td>\n",
       "      <td>NaN</td>\n",
       "      <td>NaN</td>\n",
       "      <td>NaN</td>\n",
       "      <td>NaN</td>\n",
       "      <td>NaN</td>\n",
       "      <td>NaN</td>\n",
       "      <td>NaN</td>\n",
       "      <td>NaN</td>\n",
       "      <td>NaN</td>\n",
       "      <td>...</td>\n",
       "      <td>NaN</td>\n",
       "      <td>NaN</td>\n",
       "      <td>NaN</td>\n",
       "      <td>NaN</td>\n",
       "      <td>NaN</td>\n",
       "      <td>NaN</td>\n",
       "      <td>0</td>\n",
       "      <td>0</td>\n",
       "      <td>0</td>\n",
       "      <td>0</td>\n",
       "    </tr>\n",
       "  </tbody>\n",
       "</table>\n",
       "<p>5 rows × 21 columns</p>\n",
       "</div>"
      ],
      "text/plain": [
       "   Unnamed: 0   expt    cond var_feature1                   user_id  \\\n",
       "0           0    NaN     NaN          NaN                       NaN   \n",
       "1           1  expt1  cond1a        UNEXP  54468870fdf99b648b6a5c69   \n",
       "2           2    NaN     NaN          NaN                       NaN   \n",
       "3           3  expt1  cond1a        UNEXP  561f168fed6e5a000fc7e90c   \n",
       "4           4    NaN     NaN          NaN                       NaN   \n",
       "\n",
       "     material material_variant                    answer_text rater_order  \\\n",
       "0         NaN              NaN                            NaN         NaN   \n",
       "1  alan_plane         non-goal  He has forgotten his passport    mk kc mq   \n",
       "2         NaN              NaN                            NaN         NaN   \n",
       "3  alan_plane         non-goal         His flight is delayed.    mk kc mq   \n",
       "4         NaN              NaN                            NaN         NaN   \n",
       "\n",
       "                         all_ans_codes  ...  \\\n",
       "0                                  NaN  ...   \n",
       "1  ap_neg_ans3 ap_neg_ans3 ap_neg_ans3  ...   \n",
       "2                                  NaN  ...   \n",
       "3  ap_neg_ans6 ap_neg_ans6 ap_neg_ans6  ...   \n",
       "4                                  NaN  ...   \n",
       "\n",
       "                            all_obj_js best_senti     best_obj     best_ans  \\\n",
       "0                                  NaN        NaN          NaN          NaN   \n",
       "1  neither_obj neither_obj neither_obj        neg  neither_obj  ap_neg_ans3   \n",
       "2                                  NaN        NaN          NaN          NaN   \n",
       "3        goal_obj neither_obj goal_obj        neg     goal_obj  ap_neg_ans6   \n",
       "4                                  NaN        NaN          NaN          NaN   \n",
       "\n",
       "   order comment  pos  neg  neither  resolve  \n",
       "0    NaN     NaN    0    0        0        0  \n",
       "1  to_do     NaN    0    1        0        0  \n",
       "2    NaN     NaN    0    0        0        0  \n",
       "3  to_do     NaN    0    1        0        0  \n",
       "4    NaN     NaN    0    0        0        0  \n",
       "\n",
       "[5 rows x 21 columns]"
      ]
     },
     "execution_count": 41,
     "metadata": {},
     "output_type": "execute_result"
    }
   ],
   "source": [
    "expt1 = pd.read_csv(\"0_data/expt1_master_data.csv\")\n",
    "expt1.head()"
   ]
  },
  {
   "cell_type": "code",
   "execution_count": 7,
   "id": "83e48e1b",
   "metadata": {
    "slideshow": {
     "slide_type": "skip"
    }
   },
   "outputs": [
    {
     "data": {
      "text/plain": [
       "array(['alan_plane', 'anna_interview', 'bob_job', 'karen_bus',\n",
       "       'peter_college', 'michael_tea', 'john_party', 'mary_food',\n",
       "       'katie_kitten', 'sam_driving', 'louise_shopping', 'sean_call',\n",
       "       'bill_holiday', 'robert_essay', 'sally_wine', 'rebecca_swimming',\n",
       "       'lucy_loan', 'edith_exam', 'belinda_meeting', 'steve_gardening'],\n",
       "      dtype=object)"
      ]
     },
     "execution_count": 7,
     "metadata": {},
     "output_type": "execute_result"
    }
   ],
   "source": [
    "# get set of materials\n",
    "expt1_materials = expt1['material'].dropna().unique()\n",
    "expt1_materials"
   ]
  },
  {
   "cell_type": "code",
   "execution_count": 8,
   "id": "798c6670",
   "metadata": {},
   "outputs": [
    {
     "data": {
      "text/html": [
       "<div>\n",
       "<style scoped>\n",
       "    .dataframe tbody tr th:only-of-type {\n",
       "        vertical-align: middle;\n",
       "    }\n",
       "\n",
       "    .dataframe tbody tr th {\n",
       "        vertical-align: top;\n",
       "    }\n",
       "\n",
       "    .dataframe thead th {\n",
       "        text-align: right;\n",
       "    }\n",
       "</style>\n",
       "<table border=\"1\" class=\"dataframe\">\n",
       "  <thead>\n",
       "    <tr style=\"text-align: right;\">\n",
       "      <th></th>\n",
       "      <th>material</th>\n",
       "      <th>sent1</th>\n",
       "      <th>sent2</th>\n",
       "      <th>sent3</th>\n",
       "    </tr>\n",
       "  </thead>\n",
       "  <tbody>\n",
       "    <tr>\n",
       "      <th>0</th>\n",
       "      <td>alan_plane</td>\n",
       "      <td>Alan has a plane to catch, that is departing f...</td>\n",
       "      <td>In the taxi to the airport, he reads a magazin...</td>\n",
       "      <td>At the airport, Alan checks his bags in at the...</td>\n",
       "    </tr>\n",
       "    <tr>\n",
       "      <th>1</th>\n",
       "      <td>anna_interview</td>\n",
       "      <td>Anna has an important job interview to attend ...</td>\n",
       "      <td>The night before, when she gets home from work...</td>\n",
       "      <td>Going to bed, Anna sets her alarm clock for 7am.</td>\n",
       "    </tr>\n",
       "    <tr>\n",
       "      <th>2</th>\n",
       "      <td>belinda_meeting</td>\n",
       "      <td>Belinda is on a plane going to Los Angeles for...</td>\n",
       "      <td>Looking out the plane window she is thinking f...</td>\n",
       "      <td>When Belinda reaches Los Angeles, she takes a ...</td>\n",
       "    </tr>\n",
       "    <tr>\n",
       "      <th>3</th>\n",
       "      <td>bill_holiday</td>\n",
       "      <td>Bill is looking forward to going on his summer...</td>\n",
       "      <td>He cooks himself a large breakfast on the day ...</td>\n",
       "      <td>Then, Bill packs his passport in his suitcase ...</td>\n",
       "    </tr>\n",
       "    <tr>\n",
       "      <th>4</th>\n",
       "      <td>bob_job</td>\n",
       "      <td>Bob wants to quit his job because he is not cr...</td>\n",
       "      <td>On arriving at the office, he turns on his com...</td>\n",
       "      <td>At coffee-time, Bob goes to talk to his boss a...</td>\n",
       "    </tr>\n",
       "  </tbody>\n",
       "</table>\n",
       "</div>"
      ],
      "text/plain": [
       "          material                                              sent1  \\\n",
       "0       alan_plane  Alan has a plane to catch, that is departing f...   \n",
       "1   anna_interview  Anna has an important job interview to attend ...   \n",
       "2  belinda_meeting  Belinda is on a plane going to Los Angeles for...   \n",
       "3     bill_holiday  Bill is looking forward to going on his summer...   \n",
       "4          bob_job  Bob wants to quit his job because he is not cr...   \n",
       "\n",
       "                                               sent2  \\\n",
       "0  In the taxi to the airport, he reads a magazin...   \n",
       "1  The night before, when she gets home from work...   \n",
       "2  Looking out the plane window she is thinking f...   \n",
       "3  He cooks himself a large breakfast on the day ...   \n",
       "4  On arriving at the office, he turns on his com...   \n",
       "\n",
       "                                               sent3  \n",
       "0  At the airport, Alan checks his bags in at the...  \n",
       "1   Going to bed, Anna sets her alarm clock for 7am.  \n",
       "2  When Belinda reaches Los Angeles, she takes a ...  \n",
       "3  Then, Bill packs his passport in his suitcase ...  \n",
       "4  At coffee-time, Bob goes to talk to his boss a...  "
      ]
     },
     "execution_count": 8,
     "metadata": {},
     "output_type": "execute_result"
    }
   ],
   "source": [
    "expt1_scenarios = pd.read_csv(\"0_data/materials/material_prompts_expt_1_2.csv\")\n",
    "expt1_scenarios.head()"
   ]
  },
  {
   "cell_type": "code",
   "execution_count": 9,
   "id": "e1536c55",
   "metadata": {},
   "outputs": [],
   "source": [
    "expt1_dict_scenarios = {}\n",
    "for mat in expt1_materials:\n",
    "    expt1_dict_scenarios[mat]=\"\\n\\n\".join(expt1_scenarios[expt1_scenarios['material']==mat][['sent1','sent2','sent3']].values.tolist()[0])"
   ]
  },
  {
   "cell_type": "code",
   "execution_count": 10,
   "id": "60425cc6",
   "metadata": {
    "slideshow": {
     "slide_type": "skip"
    }
   },
   "outputs": [],
   "source": [
    "# get answer frequencies by material, valence condition, and valence label\n",
    "expt1_material_valence = expt1.groupby(['material','var_feature1','best_senti']).count()['user_id'].reset_index()\n",
    "#expt3_material_valence.head()"
   ]
  },
  {
   "cell_type": "code",
   "execution_count": 11,
   "id": "01828997",
   "metadata": {
    "slideshow": {
     "slide_type": "skip"
    }
   },
   "outputs": [
    {
     "data": {
      "text/html": [
       "<div>\n",
       "<style scoped>\n",
       "    .dataframe tbody tr th:only-of-type {\n",
       "        vertical-align: middle;\n",
       "    }\n",
       "\n",
       "    .dataframe tbody tr th {\n",
       "        vertical-align: top;\n",
       "    }\n",
       "\n",
       "    .dataframe thead th {\n",
       "        text-align: right;\n",
       "    }\n",
       "</style>\n",
       "<table border=\"1\" class=\"dataframe\">\n",
       "  <thead>\n",
       "    <tr style=\"text-align: right;\">\n",
       "      <th></th>\n",
       "      <th>best_senti</th>\n",
       "      <th>neg</th>\n",
       "      <th>pos</th>\n",
       "    </tr>\n",
       "    <tr>\n",
       "      <th>material</th>\n",
       "      <th>var_feature1</th>\n",
       "      <th></th>\n",
       "      <th></th>\n",
       "    </tr>\n",
       "  </thead>\n",
       "  <tbody>\n",
       "    <tr>\n",
       "      <th rowspan=\"4\" valign=\"top\">alan_plane</th>\n",
       "      <th>GOAL-FAIL</th>\n",
       "      <td>30.0</td>\n",
       "      <td>NaN</td>\n",
       "    </tr>\n",
       "    <tr>\n",
       "      <th>UNEXP</th>\n",
       "      <td>27.0</td>\n",
       "      <td>5.0</td>\n",
       "    </tr>\n",
       "    <tr>\n",
       "      <th>UNEXP-BAD</th>\n",
       "      <td>32.0</td>\n",
       "      <td>NaN</td>\n",
       "    </tr>\n",
       "    <tr>\n",
       "      <th>UNEXP-GOOD</th>\n",
       "      <td>1.0</td>\n",
       "      <td>32.0</td>\n",
       "    </tr>\n",
       "    <tr>\n",
       "      <th>anna_interview</th>\n",
       "      <th>GOAL-FAIL</th>\n",
       "      <td>29.0</td>\n",
       "      <td>1.0</td>\n",
       "    </tr>\n",
       "  </tbody>\n",
       "</table>\n",
       "</div>"
      ],
      "text/plain": [
       "best_senti                    neg   pos\n",
       "material       var_feature1            \n",
       "alan_plane     GOAL-FAIL     30.0   NaN\n",
       "               UNEXP         27.0   5.0\n",
       "               UNEXP-BAD     32.0   NaN\n",
       "               UNEXP-GOOD     1.0  32.0\n",
       "anna_interview GOAL-FAIL     29.0   1.0"
      ]
     },
     "execution_count": 11,
     "metadata": {},
     "output_type": "execute_result"
    }
   ],
   "source": [
    "expt1_material_valence_pivot = expt1_material_valence.pivot_table(index = ['material','var_feature1'], \n",
    "                                                            columns='best_senti', \n",
    "                                                            values='user_id')\n",
    "expt1_materials_forChi = expt1_material_valence_pivot[['neg','pos']]\n",
    "expt1_materials_forChi.head()"
   ]
  },
  {
   "cell_type": "code",
   "execution_count": 77,
   "id": "ea207503",
   "metadata": {},
   "outputs": [
    {
     "data": {
      "application/vnd.plotly.v1+json": {
       "config": {
        "plotlyServerURL": "https://plot.ly"
       },
       "data": [
        {
         "hoverinfo": "text",
         "hovertext": [
          "As Lisa is drawing money from<br>the ATM she realises she is<br>overdrawn and doesn't have<br>enough money to buy what she<br>wants.",
          "She got robbed at the ATM",
          "Her information gets stolen.",
          "Lousie lost the money on the<br>way to the store",
          "She doesn't have enough money",
          "Louise is robbed of the money<br>she took out. She looked too<br>wealthy.",
          "Louise doesn't have any money<br>in the ATM because somebody<br>stole it",
          "Louise gets held up at<br>gunpoint and loses all the<br>money she has withdrawn from<br>the ATM.",
          "She is mugged at the ATM and<br>all her money is stolen",
          "the ATM wasn't working and her<br>card was stuck in the machine",
          "She might spend too much.",
          "The shop is closed.",
          "She gets mugged after<br>withdrawing the cash",
          "She is out of money for the<br>ATM.",
          "she gets robbed",
          "She is out of money",
          "she rips her dress",
          "the shop is closed",
          "She has no money to withdraw",
          "Louise may not have enough<br>money to buy clothes at the<br>expensive clothes store and<br>realises it when she draws out<br>the money.",
          "her money is stolen from her",
          "As she draws the money out of<br>her bank someone snatches it<br>on the way past",
          "someone takes her money as she<br>gets it from the machine, it<br>was a lot as she was going to<br>an expensive shop",
          "She forgot to take the money<br>from the ATM",
          "Someone mugs her and steals<br>the money",
          "she is mugged just after<br>leaving atm",
          "someone takes the money from<br>her hand",
          "Her heel snaps on her shoe",
          "Her balance is much lower than<br>expected and has been the<br>victim of card fraud",
          "out of money",
          "The ATM machine did not return<br>her card",
          "Louise doesn't have enough<br>money to take out at the ATM,<br>necessary to pay for the<br>clothes she wants to buy later<br>on."
         ],
         "marker": {
          "color": "red",
          "line": {
           "color": "black",
           "width": 0.4
          },
          "size": 20,
          "symbol": "circle"
         },
         "mode": "markers",
         "name": "neg (32.0)",
         "type": "scatter",
         "x": [
          0,
          1,
          2,
          3,
          4,
          5,
          6,
          7,
          8,
          9,
          0,
          1,
          2,
          3,
          4,
          5,
          6,
          7,
          8,
          9,
          0,
          1,
          2,
          3,
          4,
          5,
          6,
          7,
          8,
          9,
          0,
          1
         ],
         "y": [
          0,
          0,
          0,
          0,
          0,
          0,
          0,
          0,
          0,
          0,
          1,
          1,
          1,
          1,
          1,
          1,
          1,
          1,
          1,
          1,
          2,
          2,
          2,
          2,
          2,
          2,
          2,
          2,
          2,
          2,
          3,
          3
         ]
        },
        {
         "line": {
          "color": "red"
         },
         "mode": "lines",
         "type": "scatter",
         "x": [
          -0.65,
          -0.809067253933019,
          -0.8764563237193113,
          -0.8945674676804529,
          -0.8987820955424748,
          -0.89972875465402,
          -0.8999396786359852,
          -0.8999865897308621,
          -0.8999970189302064,
          -0.8999993373262787,
          -0.8999998526921851,
          -0.8999999672545111,
          -0.8999999927209101,
          -0.89999999838191,
          -0.8999999996403101,
          -0.8999999999200436,
          -0.8999999999822264,
          -0.8999999999960491,
          -0.8999999999991217,
          -0.8999999999998047,
          -0.8999999999999566,
          -0.8999999999999904,
          -0.8999999999999979,
          -0.8999999999999997,
          -0.8999999999999999,
          -0.9000000000000001,
          -0.9000000000000001,
          -0.9000000000000001,
          -0.9000000000000001,
          -0.9000000000000001,
          -0.9000000000000001,
          -0.9000000000000001,
          -0.9000000000000001,
          -0.9000000000000001,
          -0.9000000000000001,
          -0.9000000000000001,
          -0.9000000000000001,
          -0.9000000000000001,
          -0.9000000000000001,
          -0.9000000000000001,
          -0.9000000000000001,
          -0.9000000000000001,
          -0.9000000000000001,
          -0.9000000000000001,
          -0.9000000000000001,
          -0.9000000000000001,
          -0.9000000000000001,
          -0.9000000000000001,
          -0.9000000000000001,
          -0.9000000000000001,
          -0.9000000000000001,
          -0.9000000000000001,
          -0.9000000000000001,
          -0.9000000000000001,
          -0.9000000000000001,
          -0.9000000000000001,
          -0.9000000000000001,
          -0.9000000000000001,
          -0.9000000000000001,
          -0.9000000000000001,
          -0.9000000000000001,
          -0.9000000000000001,
          -0.9000000000000001,
          -0.9000000000000001,
          -0.9000000000000001,
          -0.9000000000000001,
          -0.9000000000000001,
          -0.9000000000000001,
          -0.9000000000000001,
          -0.9000000000000001,
          -0.9000000000000001,
          -0.9000000000000001,
          -0.9000000000000001,
          -0.9000000000000001,
          -0.9000000000000001,
          -0.9000000000000001,
          -0.9000000000000001,
          -0.9000000000000001,
          -0.9000000000000001,
          -0.9000000000000001,
          -0.9000000000000001,
          -0.9000000000000001,
          -0.9000000000000001,
          -0.9000000000000001,
          -0.9000000000000001,
          -0.9000000000000001,
          -0.9000000000000001,
          -0.9000000000000001,
          -0.9000000000000001,
          -0.9000000000000001,
          -0.9000000000000001,
          -0.9000000000000001,
          -0.9000000000000001,
          -0.9000000000000001,
          -0.9000000000000001,
          -0.9000000000000001,
          -0.9000000000000001,
          -0.9000000000000001,
          -0.9000000000000001,
          -0.9000000000000001,
          -0.9000000000000001,
          -0.9000000000000001,
          -0.9000000000000001,
          -0.9000000000000001,
          -0.9000000000000001,
          -0.9000000000000001,
          -0.9000000000000001,
          -0.9000000000000001,
          -0.9000000000000001,
          -0.9000000000000001,
          -0.9000000000000004,
          -0.9000000000000021,
          -0.9000000000000097,
          -0.9000000000000434,
          -0.9000000000001953,
          -0.9000000000008783,
          -0.900000000003951,
          -0.9000000000177739,
          -0.9000000000799564,
          -0.90000000035969,
          -0.90000000161809,
          -0.9000000072790899,
          -0.9000000327454889,
          -0.900000147307815,
          -0.9000006626737216,
          -0.9000029810697936,
          -0.900013410269138,
          -0.9000603213640148,
          -0.90027124534598,
          -0.9012179044575253,
          -0.9054325323195471,
          -0.9235436762806883,
          -0.9909327460669803,
          -1.1500000000000001,
          -0.9909327460669803,
          -0.9235436762806883,
          -0.9054325323195471,
          -0.9012179044575253,
          -0.90027124534598,
          -0.9000603213640148,
          -0.900013410269138,
          -0.9000029810697936,
          -0.9000006626737216,
          -0.900000147307815,
          -0.9000000327454889,
          -0.9000000072790899,
          -0.90000000161809,
          -0.90000000035969,
          -0.9000000000799564,
          -0.9000000000177739,
          -0.900000000003951,
          -0.9000000000008783,
          -0.9000000000001953,
          -0.9000000000000434,
          -0.9000000000000097,
          -0.9000000000000021,
          -0.9000000000000004,
          -0.9000000000000001,
          -0.9000000000000001,
          -0.9000000000000001,
          -0.9000000000000001,
          -0.9000000000000001,
          -0.9000000000000001,
          -0.9000000000000001,
          -0.9000000000000001,
          -0.9000000000000001,
          -0.9000000000000001,
          -0.9000000000000001,
          -0.9000000000000001,
          -0.9000000000000001,
          -0.9000000000000001,
          -0.9000000000000001,
          -0.9000000000000001,
          -0.9000000000000001,
          -0.9000000000000001,
          -0.9000000000000001,
          -0.9000000000000001,
          -0.9000000000000001,
          -0.9000000000000001,
          -0.9000000000000001,
          -0.9000000000000001,
          -0.9000000000000001,
          -0.9000000000000001,
          -0.9000000000000001,
          -0.9000000000000001,
          -0.9000000000000001,
          -0.9000000000000001,
          -0.9000000000000001,
          -0.9000000000000001,
          -0.9000000000000001,
          -0.9000000000000001,
          -0.9000000000000001,
          -0.9000000000000001,
          -0.9000000000000001,
          -0.9000000000000001,
          -0.9000000000000001,
          -0.9000000000000001,
          -0.9000000000000001,
          -0.9000000000000001,
          -0.9000000000000001,
          -0.9000000000000001,
          -0.9000000000000001,
          -0.9000000000000001,
          -0.9000000000000001,
          -0.9000000000000001,
          -0.9000000000000001,
          -0.9000000000000001,
          -0.9000000000000001,
          -0.9000000000000001,
          -0.9000000000000001,
          -0.9000000000000001,
          -0.9000000000000001,
          -0.9000000000000001,
          -0.9000000000000001,
          -0.9000000000000001,
          -0.9000000000000001,
          -0.9000000000000001,
          -0.9000000000000001,
          -0.9000000000000001,
          -0.9000000000000001,
          -0.9000000000000001,
          -0.9000000000000001,
          -0.9000000000000001,
          -0.9000000000000001,
          -0.9000000000000001,
          -0.9000000000000001,
          -0.9000000000000001,
          -0.9000000000000001,
          -0.9000000000000001,
          -0.9000000000000001,
          -0.9000000000000001,
          -0.9000000000000001,
          -0.9000000000000001,
          -0.9000000000000001,
          -0.9000000000000001,
          -0.9000000000000001,
          -0.9000000000000001,
          -0.9000000000000001,
          -0.9000000000000001,
          -0.9000000000000001,
          -0.9000000000000001,
          -0.9000000000000001,
          -0.8999999999999999,
          -0.8999999999999997,
          -0.8999999999999979,
          -0.8999999999999904,
          -0.8999999999999566,
          -0.8999999999998047,
          -0.8999999999991217,
          -0.8999999999960491,
          -0.8999999999822264,
          -0.8999999999200436,
          -0.8999999996403101,
          -0.89999999838191,
          -0.8999999927209101,
          -0.8999999672545111,
          -0.8999998526921851,
          -0.8999993373262787,
          -0.8999970189302064,
          -0.8999865897308621,
          -0.8999396786359852,
          -0.89972875465402,
          -0.8987820955424748,
          -0.8945674676804529,
          -0.8764563237193113,
          -0.809067253933019,
          -0.65
         ],
         "y": [
          -0.5,
          -0.4849624060150376,
          -0.4699248120300752,
          -0.4548872180451128,
          -0.4398496240601504,
          -0.424812030075188,
          -0.40977443609022557,
          -0.39473684210526316,
          -0.37969924812030076,
          -0.36466165413533835,
          -0.34962406015037595,
          -0.33458646616541354,
          -0.31954887218045114,
          -0.30451127819548873,
          -0.2894736842105263,
          -0.2744360902255639,
          -0.2593984962406015,
          -0.2443609022556391,
          -0.2293233082706767,
          -0.2142857142857143,
          -0.1992481203007519,
          -0.1842105263157895,
          -0.16917293233082709,
          -0.15413533834586468,
          -0.13909774436090228,
          -0.12406015037593987,
          -0.10902255639097747,
          -0.09398496240601506,
          -0.07894736842105265,
          -0.06390977443609025,
          -0.048872180451127845,
          -0.03383458646616544,
          -0.018796992481203034,
          -0.003759398496240629,
          0.011278195488721776,
          0.02631578947368418,
          0.041353383458646586,
          0.05639097744360899,
          0.0714285714285714,
          0.0864661654135338,
          0.10150375939849621,
          0.11654135338345861,
          0.13157894736842102,
          0.14661654135338342,
          0.16165413533834583,
          0.17669172932330823,
          0.19172932330827064,
          0.20676691729323304,
          0.22180451127819545,
          0.23684210526315785,
          0.25187969924812026,
          0.26691729323308266,
          0.28195488721804507,
          0.2969924812030075,
          0.3120300751879699,
          0.3270676691729323,
          0.3421052631578947,
          0.3571428571428571,
          0.3721804511278195,
          0.3872180451127819,
          0.4022556390977443,
          0.4172932330827067,
          0.4323308270676691,
          0.4473684210526315,
          0.46240601503759393,
          0.47744360902255634,
          0.49248120300751874,
          0.507518796992481,
          0.5225563909774436,
          0.5375939849624061,
          0.5526315789473684,
          0.5676691729323307,
          0.5827067669172932,
          0.5977443609022557,
          0.612781954887218,
          0.6278195488721803,
          0.6428571428571428,
          0.6578947368421053,
          0.6729323308270676,
          0.6879699248120299,
          0.7030075187969924,
          0.7180451127819549,
          0.7330827067669172,
          0.7481203007518795,
          0.763157894736842,
          0.7781954887218046,
          0.7932330827067668,
          0.8082706766917291,
          0.8233082706766917,
          0.8383458646616542,
          0.8533834586466165,
          0.8684210526315788,
          0.8834586466165413,
          0.8984962406015038,
          0.9135338345864661,
          0.9285714285714284,
          0.9436090225563909,
          0.9586466165413534,
          0.9736842105263157,
          0.988721804511278,
          1.0037593984962405,
          1.018796992481203,
          1.0338345864661653,
          1.0488721804511276,
          1.0639097744360901,
          1.0789473684210527,
          1.093984962406015,
          1.1090225563909772,
          1.1240601503759398,
          1.1390977443609023,
          1.1541353383458646,
          1.1691729323308269,
          1.1842105263157894,
          1.199248120300752,
          1.2142857142857142,
          1.2293233082706765,
          1.244360902255639,
          1.2593984962406015,
          1.2744360902255638,
          1.289473684210526,
          1.3045112781954886,
          1.3195488721804511,
          1.3345864661654134,
          1.3496240601503757,
          1.3646616541353382,
          1.3796992481203008,
          1.394736842105263,
          1.4097744360902253,
          1.4248120300751879,
          1.4398496240601504,
          1.4548872180451127,
          1.469924812030075,
          1.4849624060150375,
          1.5,
          1.515037593984962,
          1.5300751879699246,
          1.545112781954887,
          1.5601503759398496,
          1.5751879699248121,
          1.5902255639097742,
          1.6052631578947367,
          1.6203007518796992,
          1.6353383458646613,
          1.6503759398496238,
          1.6654135338345863,
          1.6804511278195489,
          1.6954887218045114,
          1.7105263157894735,
          1.725563909774436,
          1.7406015037593985,
          1.7556390977443606,
          1.770676691729323,
          1.7857142857142856,
          1.800751879699248,
          1.8157894736842106,
          1.8308270676691727,
          1.8458646616541352,
          1.8609022556390977,
          1.8759398496240598,
          1.8909774436090223,
          1.9060150375939848,
          1.9210526315789473,
          1.9360902255639099,
          1.951127819548872,
          1.9661654135338344,
          1.981203007518797,
          1.996240601503759,
          2.0112781954887216,
          2.026315789473684,
          2.0413533834586466,
          2.056390977443609,
          2.071428571428571,
          2.0864661654135337,
          2.101503759398496,
          2.1165413533834583,
          2.131578947368421,
          2.1466165413533833,
          2.161654135338346,
          2.1766917293233083,
          2.1917293233082704,
          2.206766917293233,
          2.2218045112781954,
          2.2368421052631575,
          2.25187969924812,
          2.2669172932330826,
          2.281954887218045,
          2.2969924812030076,
          2.3120300751879697,
          2.327067669172932,
          2.3421052631578947,
          2.3571428571428568,
          2.3721804511278193,
          2.387218045112782,
          2.4022556390977443,
          2.417293233082707,
          2.432330827067669,
          2.4473684210526314,
          2.462406015037594,
          2.477443609022556,
          2.4924812030075185,
          2.507518796992481,
          2.5225563909774436,
          2.537593984962406,
          2.552631578947368,
          2.5676691729323307,
          2.582706766917293,
          2.5977443609022552,
          2.6127819548872178,
          2.6278195488721803,
          2.642857142857143,
          2.6578947368421053,
          2.6729323308270674,
          2.68796992481203,
          2.7030075187969924,
          2.7180451127819545,
          2.733082706766917,
          2.7481203007518795,
          2.763157894736842,
          2.7781954887218046,
          2.7932330827067666,
          2.808270676691729,
          2.8233082706766917,
          2.8383458646616537,
          2.8533834586466162,
          2.8684210526315788,
          2.8834586466165413,
          2.898496240601504,
          2.913533834586466,
          2.9285714285714284,
          2.943609022556391,
          2.958646616541353,
          2.9736842105263155,
          2.988721804511278,
          3.0037593984962405,
          3.018796992481203,
          3.033834586466165,
          3.0488721804511276,
          3.06390977443609,
          3.078947368421052,
          3.0939849624060147,
          3.1090225563909772,
          3.1240601503759398,
          3.1390977443609023,
          3.1541353383458643,
          3.169172932330827,
          3.1842105263157894,
          3.1992481203007515,
          3.214285714285714,
          3.2293233082706765,
          3.244360902255639,
          3.2593984962406015,
          3.2744360902255636,
          3.289473684210526,
          3.3045112781954886,
          3.3195488721804507,
          3.334586466165413,
          3.3496240601503757,
          3.3646616541353382,
          3.3796992481203008,
          3.394736842105263,
          3.4097744360902253,
          3.424812030075188,
          3.43984962406015,
          3.4548872180451125,
          3.469924812030075,
          3.4849624060150375,
          3.5
         ]
        }
       ],
       "layout": {
        "annotations": [
         {
          "font": {
           "family": "Arial",
           "size": 16
          },
          "showarrow": false,
          "text": "100%",
          "textangle": -90,
          "x": -2,
          "y": 1.5
         }
        ],
        "height": 150,
        "margin": {
         "b": 0,
         "l": 0,
         "r": 0,
         "t": 30
        },
        "paper_bgcolor": "rgba(255,255,255,1)",
        "plot_bgcolor": "rgba(0,0,0,0)",
        "showlegend": false,
        "template": {
         "data": {
          "bar": [
           {
            "error_x": {
             "color": "#2a3f5f"
            },
            "error_y": {
             "color": "#2a3f5f"
            },
            "marker": {
             "line": {
              "color": "#E5ECF6",
              "width": 0.5
             }
            },
            "type": "bar"
           }
          ],
          "barpolar": [
           {
            "marker": {
             "line": {
              "color": "#E5ECF6",
              "width": 0.5
             }
            },
            "type": "barpolar"
           }
          ],
          "carpet": [
           {
            "aaxis": {
             "endlinecolor": "#2a3f5f",
             "gridcolor": "white",
             "linecolor": "white",
             "minorgridcolor": "white",
             "startlinecolor": "#2a3f5f"
            },
            "baxis": {
             "endlinecolor": "#2a3f5f",
             "gridcolor": "white",
             "linecolor": "white",
             "minorgridcolor": "white",
             "startlinecolor": "#2a3f5f"
            },
            "type": "carpet"
           }
          ],
          "choropleth": [
           {
            "colorbar": {
             "outlinewidth": 0,
             "ticks": ""
            },
            "type": "choropleth"
           }
          ],
          "contour": [
           {
            "colorbar": {
             "outlinewidth": 0,
             "ticks": ""
            },
            "colorscale": [
             [
              0,
              "#0d0887"
             ],
             [
              0.1111111111111111,
              "#46039f"
             ],
             [
              0.2222222222222222,
              "#7201a8"
             ],
             [
              0.3333333333333333,
              "#9c179e"
             ],
             [
              0.4444444444444444,
              "#bd3786"
             ],
             [
              0.5555555555555556,
              "#d8576b"
             ],
             [
              0.6666666666666666,
              "#ed7953"
             ],
             [
              0.7777777777777778,
              "#fb9f3a"
             ],
             [
              0.8888888888888888,
              "#fdca26"
             ],
             [
              1,
              "#f0f921"
             ]
            ],
            "type": "contour"
           }
          ],
          "contourcarpet": [
           {
            "colorbar": {
             "outlinewidth": 0,
             "ticks": ""
            },
            "type": "contourcarpet"
           }
          ],
          "heatmap": [
           {
            "colorbar": {
             "outlinewidth": 0,
             "ticks": ""
            },
            "colorscale": [
             [
              0,
              "#0d0887"
             ],
             [
              0.1111111111111111,
              "#46039f"
             ],
             [
              0.2222222222222222,
              "#7201a8"
             ],
             [
              0.3333333333333333,
              "#9c179e"
             ],
             [
              0.4444444444444444,
              "#bd3786"
             ],
             [
              0.5555555555555556,
              "#d8576b"
             ],
             [
              0.6666666666666666,
              "#ed7953"
             ],
             [
              0.7777777777777778,
              "#fb9f3a"
             ],
             [
              0.8888888888888888,
              "#fdca26"
             ],
             [
              1,
              "#f0f921"
             ]
            ],
            "type": "heatmap"
           }
          ],
          "heatmapgl": [
           {
            "colorbar": {
             "outlinewidth": 0,
             "ticks": ""
            },
            "colorscale": [
             [
              0,
              "#0d0887"
             ],
             [
              0.1111111111111111,
              "#46039f"
             ],
             [
              0.2222222222222222,
              "#7201a8"
             ],
             [
              0.3333333333333333,
              "#9c179e"
             ],
             [
              0.4444444444444444,
              "#bd3786"
             ],
             [
              0.5555555555555556,
              "#d8576b"
             ],
             [
              0.6666666666666666,
              "#ed7953"
             ],
             [
              0.7777777777777778,
              "#fb9f3a"
             ],
             [
              0.8888888888888888,
              "#fdca26"
             ],
             [
              1,
              "#f0f921"
             ]
            ],
            "type": "heatmapgl"
           }
          ],
          "histogram": [
           {
            "marker": {
             "colorbar": {
              "outlinewidth": 0,
              "ticks": ""
             }
            },
            "type": "histogram"
           }
          ],
          "histogram2d": [
           {
            "colorbar": {
             "outlinewidth": 0,
             "ticks": ""
            },
            "colorscale": [
             [
              0,
              "#0d0887"
             ],
             [
              0.1111111111111111,
              "#46039f"
             ],
             [
              0.2222222222222222,
              "#7201a8"
             ],
             [
              0.3333333333333333,
              "#9c179e"
             ],
             [
              0.4444444444444444,
              "#bd3786"
             ],
             [
              0.5555555555555556,
              "#d8576b"
             ],
             [
              0.6666666666666666,
              "#ed7953"
             ],
             [
              0.7777777777777778,
              "#fb9f3a"
             ],
             [
              0.8888888888888888,
              "#fdca26"
             ],
             [
              1,
              "#f0f921"
             ]
            ],
            "type": "histogram2d"
           }
          ],
          "histogram2dcontour": [
           {
            "colorbar": {
             "outlinewidth": 0,
             "ticks": ""
            },
            "colorscale": [
             [
              0,
              "#0d0887"
             ],
             [
              0.1111111111111111,
              "#46039f"
             ],
             [
              0.2222222222222222,
              "#7201a8"
             ],
             [
              0.3333333333333333,
              "#9c179e"
             ],
             [
              0.4444444444444444,
              "#bd3786"
             ],
             [
              0.5555555555555556,
              "#d8576b"
             ],
             [
              0.6666666666666666,
              "#ed7953"
             ],
             [
              0.7777777777777778,
              "#fb9f3a"
             ],
             [
              0.8888888888888888,
              "#fdca26"
             ],
             [
              1,
              "#f0f921"
             ]
            ],
            "type": "histogram2dcontour"
           }
          ],
          "mesh3d": [
           {
            "colorbar": {
             "outlinewidth": 0,
             "ticks": ""
            },
            "type": "mesh3d"
           }
          ],
          "parcoords": [
           {
            "line": {
             "colorbar": {
              "outlinewidth": 0,
              "ticks": ""
             }
            },
            "type": "parcoords"
           }
          ],
          "pie": [
           {
            "automargin": true,
            "type": "pie"
           }
          ],
          "scatter": [
           {
            "marker": {
             "colorbar": {
              "outlinewidth": 0,
              "ticks": ""
             }
            },
            "type": "scatter"
           }
          ],
          "scatter3d": [
           {
            "line": {
             "colorbar": {
              "outlinewidth": 0,
              "ticks": ""
             }
            },
            "marker": {
             "colorbar": {
              "outlinewidth": 0,
              "ticks": ""
             }
            },
            "type": "scatter3d"
           }
          ],
          "scattercarpet": [
           {
            "marker": {
             "colorbar": {
              "outlinewidth": 0,
              "ticks": ""
             }
            },
            "type": "scattercarpet"
           }
          ],
          "scattergeo": [
           {
            "marker": {
             "colorbar": {
              "outlinewidth": 0,
              "ticks": ""
             }
            },
            "type": "scattergeo"
           }
          ],
          "scattergl": [
           {
            "marker": {
             "colorbar": {
              "outlinewidth": 0,
              "ticks": ""
             }
            },
            "type": "scattergl"
           }
          ],
          "scattermapbox": [
           {
            "marker": {
             "colorbar": {
              "outlinewidth": 0,
              "ticks": ""
             }
            },
            "type": "scattermapbox"
           }
          ],
          "scatterpolar": [
           {
            "marker": {
             "colorbar": {
              "outlinewidth": 0,
              "ticks": ""
             }
            },
            "type": "scatterpolar"
           }
          ],
          "scatterpolargl": [
           {
            "marker": {
             "colorbar": {
              "outlinewidth": 0,
              "ticks": ""
             }
            },
            "type": "scatterpolargl"
           }
          ],
          "scatterternary": [
           {
            "marker": {
             "colorbar": {
              "outlinewidth": 0,
              "ticks": ""
             }
            },
            "type": "scatterternary"
           }
          ],
          "surface": [
           {
            "colorbar": {
             "outlinewidth": 0,
             "ticks": ""
            },
            "colorscale": [
             [
              0,
              "#0d0887"
             ],
             [
              0.1111111111111111,
              "#46039f"
             ],
             [
              0.2222222222222222,
              "#7201a8"
             ],
             [
              0.3333333333333333,
              "#9c179e"
             ],
             [
              0.4444444444444444,
              "#bd3786"
             ],
             [
              0.5555555555555556,
              "#d8576b"
             ],
             [
              0.6666666666666666,
              "#ed7953"
             ],
             [
              0.7777777777777778,
              "#fb9f3a"
             ],
             [
              0.8888888888888888,
              "#fdca26"
             ],
             [
              1,
              "#f0f921"
             ]
            ],
            "type": "surface"
           }
          ],
          "table": [
           {
            "cells": {
             "fill": {
              "color": "#EBF0F8"
             },
             "line": {
              "color": "white"
             }
            },
            "header": {
             "fill": {
              "color": "#C8D4E3"
             },
             "line": {
              "color": "white"
             }
            },
            "type": "table"
           }
          ]
         },
         "layout": {
          "annotationdefaults": {
           "arrowcolor": "#2a3f5f",
           "arrowhead": 0,
           "arrowwidth": 1
          },
          "autotypenumbers": "strict",
          "coloraxis": {
           "colorbar": {
            "outlinewidth": 0,
            "ticks": ""
           }
          },
          "colorscale": {
           "diverging": [
            [
             0,
             "#8e0152"
            ],
            [
             0.1,
             "#c51b7d"
            ],
            [
             0.2,
             "#de77ae"
            ],
            [
             0.3,
             "#f1b6da"
            ],
            [
             0.4,
             "#fde0ef"
            ],
            [
             0.5,
             "#f7f7f7"
            ],
            [
             0.6,
             "#e6f5d0"
            ],
            [
             0.7,
             "#b8e186"
            ],
            [
             0.8,
             "#7fbc41"
            ],
            [
             0.9,
             "#4d9221"
            ],
            [
             1,
             "#276419"
            ]
           ],
           "sequential": [
            [
             0,
             "#0d0887"
            ],
            [
             0.1111111111111111,
             "#46039f"
            ],
            [
             0.2222222222222222,
             "#7201a8"
            ],
            [
             0.3333333333333333,
             "#9c179e"
            ],
            [
             0.4444444444444444,
             "#bd3786"
            ],
            [
             0.5555555555555556,
             "#d8576b"
            ],
            [
             0.6666666666666666,
             "#ed7953"
            ],
            [
             0.7777777777777778,
             "#fb9f3a"
            ],
            [
             0.8888888888888888,
             "#fdca26"
            ],
            [
             1,
             "#f0f921"
            ]
           ],
           "sequentialminus": [
            [
             0,
             "#0d0887"
            ],
            [
             0.1111111111111111,
             "#46039f"
            ],
            [
             0.2222222222222222,
             "#7201a8"
            ],
            [
             0.3333333333333333,
             "#9c179e"
            ],
            [
             0.4444444444444444,
             "#bd3786"
            ],
            [
             0.5555555555555556,
             "#d8576b"
            ],
            [
             0.6666666666666666,
             "#ed7953"
            ],
            [
             0.7777777777777778,
             "#fb9f3a"
            ],
            [
             0.8888888888888888,
             "#fdca26"
            ],
            [
             1,
             "#f0f921"
            ]
           ]
          },
          "colorway": [
           "#636efa",
           "#EF553B",
           "#00cc96",
           "#ab63fa",
           "#FFA15A",
           "#19d3f3",
           "#FF6692",
           "#B6E880",
           "#FF97FF",
           "#FECB52"
          ],
          "font": {
           "color": "#2a3f5f"
          },
          "geo": {
           "bgcolor": "white",
           "lakecolor": "white",
           "landcolor": "#E5ECF6",
           "showlakes": true,
           "showland": true,
           "subunitcolor": "white"
          },
          "hoverlabel": {
           "align": "left"
          },
          "hovermode": "closest",
          "mapbox": {
           "style": "light"
          },
          "paper_bgcolor": "white",
          "plot_bgcolor": "#E5ECF6",
          "polar": {
           "angularaxis": {
            "gridcolor": "white",
            "linecolor": "white",
            "ticks": ""
           },
           "bgcolor": "#E5ECF6",
           "radialaxis": {
            "gridcolor": "white",
            "linecolor": "white",
            "ticks": ""
           }
          },
          "scene": {
           "xaxis": {
            "backgroundcolor": "#E5ECF6",
            "gridcolor": "white",
            "gridwidth": 2,
            "linecolor": "white",
            "showbackground": true,
            "ticks": "",
            "zerolinecolor": "white"
           },
           "yaxis": {
            "backgroundcolor": "#E5ECF6",
            "gridcolor": "white",
            "gridwidth": 2,
            "linecolor": "white",
            "showbackground": true,
            "ticks": "",
            "zerolinecolor": "white"
           },
           "zaxis": {
            "backgroundcolor": "#E5ECF6",
            "gridcolor": "white",
            "gridwidth": 2,
            "linecolor": "white",
            "showbackground": true,
            "ticks": "",
            "zerolinecolor": "white"
           }
          },
          "shapedefaults": {
           "line": {
            "color": "#2a3f5f"
           }
          },
          "ternary": {
           "aaxis": {
            "gridcolor": "white",
            "linecolor": "white",
            "ticks": ""
           },
           "baxis": {
            "gridcolor": "white",
            "linecolor": "white",
            "ticks": ""
           },
           "bgcolor": "#E5ECF6",
           "caxis": {
            "gridcolor": "white",
            "linecolor": "white",
            "ticks": ""
           }
          },
          "title": {
           "x": 0.05
          },
          "xaxis": {
           "automargin": true,
           "gridcolor": "white",
           "linecolor": "white",
           "ticks": "",
           "title": {
            "standoff": 15
           },
           "zerolinecolor": "white",
           "zerolinewidth": 2
          },
          "yaxis": {
           "automargin": true,
           "gridcolor": "white",
           "linecolor": "white",
           "ticks": "",
           "title": {
            "standoff": 15
           },
           "zerolinecolor": "white",
           "zerolinewidth": 2
          }
         }
        },
        "title": {
         "text": ""
        },
        "width": 350,
        "xaxis": {
         "scaleanchor": "y",
         "scaleratio": 1,
         "showgrid": false,
         "showline": false,
         "showticklabels": false,
         "visible": false,
         "zeroline": false
        },
        "yaxis": {
         "constrain": "domain",
         "range": [
          -1,
          4
         ],
         "showgrid": false,
         "showline": false,
         "showticklabels": false,
         "visible": false,
         "zeroline": false
        }
       }
      },
      "text/html": [
       "<div>                            <div id=\"70ac370a-5108-4a62-92ab-c005928c74ef\" class=\"plotly-graph-div\" style=\"height:150.0px; width:350px;\"></div>            <script type=\"text/javascript\">                require([\"plotly\"], function(Plotly) {                    window.PLOTLYENV=window.PLOTLYENV || {};                                    if (document.getElementById(\"70ac370a-5108-4a62-92ab-c005928c74ef\")) {                    Plotly.newPlot(                        \"70ac370a-5108-4a62-92ab-c005928c74ef\",                        [{\"hoverinfo\": \"text\", \"hovertext\": [\"As Lisa is drawing money from<br>the ATM she realises she is<br>overdrawn and doesn't have<br>enough money to buy what she<br>wants.\", \"She got robbed at the ATM\", \"Her information gets stolen.\", \"Lousie lost the money on the<br>way to the store\", \"She doesn't have enough money\", \"Louise is robbed of the money<br>she took out. She looked too<br>wealthy.\", \"Louise doesn't have any money<br>in the ATM because somebody<br>stole it\", \"Louise gets held up at<br>gunpoint and loses all the<br>money she has withdrawn from<br>the ATM.\", \"She is mugged at the ATM and<br>all her money is stolen\", \"the ATM wasn't working and her<br>card was stuck in the machine\", \"She might spend too much.\", \"The shop is closed.\", \"She gets mugged after<br>withdrawing the cash\", \"She is out of money for the<br>ATM.\", \"she gets robbed\", \"She is out of money\", \"she rips her dress\", \"the shop is closed\", \"She has no money to withdraw\", \"Louise may not have enough<br>money to buy clothes at the<br>expensive clothes store and<br>realises it when she draws out<br>the money.\", \"her money is stolen from her\", \"As she draws the money out of<br>her bank someone snatches it<br>on the way past\", \"someone takes her money as she<br>gets it from the machine, it<br>was a lot as she was going to<br>an expensive shop\", \"She forgot to take the money<br>from the ATM\", \"Someone mugs her and steals<br>the money\", \"she is mugged just after<br>leaving atm\", \"someone takes the money from<br>her hand\", \"Her heel snaps on her shoe\", \"Her balance is much lower than<br>expected and has been the<br>victim of card fraud\", \"out of money\", \"The ATM machine did not return<br>her card\", \"Louise doesn't have enough<br>money to take out at the ATM,<br>necessary to pay for the<br>clothes she wants to buy later<br>on.\"], \"marker\": {\"color\": \"red\", \"line\": {\"color\": \"black\", \"width\": 0.4}, \"size\": 20, \"symbol\": \"circle\"}, \"mode\": \"markers\", \"name\": \"neg (32.0)\", \"type\": \"scatter\", \"x\": [0, 1, 2, 3, 4, 5, 6, 7, 8, 9, 0, 1, 2, 3, 4, 5, 6, 7, 8, 9, 0, 1, 2, 3, 4, 5, 6, 7, 8, 9, 0, 1], \"y\": [0, 0, 0, 0, 0, 0, 0, 0, 0, 0, 1, 1, 1, 1, 1, 1, 1, 1, 1, 1, 2, 2, 2, 2, 2, 2, 2, 2, 2, 2, 3, 3]}, {\"line\": {\"color\": \"red\"}, \"mode\": \"lines\", \"type\": \"scatter\", \"x\": [-0.65, -0.809067253933019, -0.8764563237193113, -0.8945674676804529, -0.8987820955424748, -0.89972875465402, -0.8999396786359852, -0.8999865897308621, -0.8999970189302064, -0.8999993373262787, -0.8999998526921851, -0.8999999672545111, -0.8999999927209101, -0.89999999838191, -0.8999999996403101, -0.8999999999200436, -0.8999999999822264, -0.8999999999960491, -0.8999999999991217, -0.8999999999998047, -0.8999999999999566, -0.8999999999999904, -0.8999999999999979, -0.8999999999999997, -0.8999999999999999, -0.9000000000000001, -0.9000000000000001, -0.9000000000000001, -0.9000000000000001, -0.9000000000000001, -0.9000000000000001, -0.9000000000000001, -0.9000000000000001, -0.9000000000000001, -0.9000000000000001, -0.9000000000000001, -0.9000000000000001, -0.9000000000000001, -0.9000000000000001, -0.9000000000000001, -0.9000000000000001, -0.9000000000000001, -0.9000000000000001, -0.9000000000000001, -0.9000000000000001, -0.9000000000000001, -0.9000000000000001, -0.9000000000000001, -0.9000000000000001, -0.9000000000000001, -0.9000000000000001, -0.9000000000000001, -0.9000000000000001, -0.9000000000000001, -0.9000000000000001, -0.9000000000000001, -0.9000000000000001, -0.9000000000000001, -0.9000000000000001, -0.9000000000000001, -0.9000000000000001, -0.9000000000000001, -0.9000000000000001, -0.9000000000000001, -0.9000000000000001, -0.9000000000000001, -0.9000000000000001, -0.9000000000000001, -0.9000000000000001, -0.9000000000000001, -0.9000000000000001, -0.9000000000000001, -0.9000000000000001, -0.9000000000000001, -0.9000000000000001, -0.9000000000000001, -0.9000000000000001, -0.9000000000000001, -0.9000000000000001, -0.9000000000000001, -0.9000000000000001, -0.9000000000000001, -0.9000000000000001, -0.9000000000000001, -0.9000000000000001, -0.9000000000000001, -0.9000000000000001, -0.9000000000000001, -0.9000000000000001, -0.9000000000000001, -0.9000000000000001, -0.9000000000000001, -0.9000000000000001, -0.9000000000000001, -0.9000000000000001, -0.9000000000000001, -0.9000000000000001, -0.9000000000000001, -0.9000000000000001, -0.9000000000000001, -0.9000000000000001, -0.9000000000000001, -0.9000000000000001, -0.9000000000000001, -0.9000000000000001, -0.9000000000000001, -0.9000000000000001, -0.9000000000000001, -0.9000000000000001, -0.9000000000000001, -0.9000000000000004, -0.9000000000000021, -0.9000000000000097, -0.9000000000000434, -0.9000000000001953, -0.9000000000008783, -0.900000000003951, -0.9000000000177739, -0.9000000000799564, -0.90000000035969, -0.90000000161809, -0.9000000072790899, -0.9000000327454889, -0.900000147307815, -0.9000006626737216, -0.9000029810697936, -0.900013410269138, -0.9000603213640148, -0.90027124534598, -0.9012179044575253, -0.9054325323195471, -0.9235436762806883, -0.9909327460669803, -1.1500000000000001, -0.9909327460669803, -0.9235436762806883, -0.9054325323195471, -0.9012179044575253, -0.90027124534598, -0.9000603213640148, -0.900013410269138, -0.9000029810697936, -0.9000006626737216, -0.900000147307815, -0.9000000327454889, -0.9000000072790899, -0.90000000161809, -0.90000000035969, -0.9000000000799564, -0.9000000000177739, -0.900000000003951, -0.9000000000008783, -0.9000000000001953, -0.9000000000000434, -0.9000000000000097, -0.9000000000000021, -0.9000000000000004, -0.9000000000000001, -0.9000000000000001, -0.9000000000000001, -0.9000000000000001, -0.9000000000000001, -0.9000000000000001, -0.9000000000000001, -0.9000000000000001, -0.9000000000000001, -0.9000000000000001, -0.9000000000000001, -0.9000000000000001, -0.9000000000000001, -0.9000000000000001, -0.9000000000000001, -0.9000000000000001, -0.9000000000000001, -0.9000000000000001, -0.9000000000000001, -0.9000000000000001, -0.9000000000000001, -0.9000000000000001, -0.9000000000000001, -0.9000000000000001, -0.9000000000000001, -0.9000000000000001, -0.9000000000000001, -0.9000000000000001, -0.9000000000000001, -0.9000000000000001, -0.9000000000000001, -0.9000000000000001, -0.9000000000000001, -0.9000000000000001, -0.9000000000000001, -0.9000000000000001, -0.9000000000000001, -0.9000000000000001, -0.9000000000000001, -0.9000000000000001, -0.9000000000000001, -0.9000000000000001, -0.9000000000000001, -0.9000000000000001, -0.9000000000000001, -0.9000000000000001, -0.9000000000000001, -0.9000000000000001, -0.9000000000000001, -0.9000000000000001, -0.9000000000000001, -0.9000000000000001, -0.9000000000000001, -0.9000000000000001, -0.9000000000000001, -0.9000000000000001, -0.9000000000000001, -0.9000000000000001, -0.9000000000000001, -0.9000000000000001, -0.9000000000000001, -0.9000000000000001, -0.9000000000000001, -0.9000000000000001, -0.9000000000000001, -0.9000000000000001, -0.9000000000000001, -0.9000000000000001, -0.9000000000000001, -0.9000000000000001, -0.9000000000000001, -0.9000000000000001, -0.9000000000000001, -0.9000000000000001, -0.9000000000000001, -0.9000000000000001, -0.9000000000000001, -0.9000000000000001, -0.9000000000000001, -0.9000000000000001, -0.9000000000000001, -0.9000000000000001, -0.9000000000000001, -0.9000000000000001, -0.9000000000000001, -0.8999999999999999, -0.8999999999999997, -0.8999999999999979, -0.8999999999999904, -0.8999999999999566, -0.8999999999998047, -0.8999999999991217, -0.8999999999960491, -0.8999999999822264, -0.8999999999200436, -0.8999999996403101, -0.89999999838191, -0.8999999927209101, -0.8999999672545111, -0.8999998526921851, -0.8999993373262787, -0.8999970189302064, -0.8999865897308621, -0.8999396786359852, -0.89972875465402, -0.8987820955424748, -0.8945674676804529, -0.8764563237193113, -0.809067253933019, -0.65], \"y\": [-0.5, -0.4849624060150376, -0.4699248120300752, -0.4548872180451128, -0.4398496240601504, -0.424812030075188, -0.40977443609022557, -0.39473684210526316, -0.37969924812030076, -0.36466165413533835, -0.34962406015037595, -0.33458646616541354, -0.31954887218045114, -0.30451127819548873, -0.2894736842105263, -0.2744360902255639, -0.2593984962406015, -0.2443609022556391, -0.2293233082706767, -0.2142857142857143, -0.1992481203007519, -0.1842105263157895, -0.16917293233082709, -0.15413533834586468, -0.13909774436090228, -0.12406015037593987, -0.10902255639097747, -0.09398496240601506, -0.07894736842105265, -0.06390977443609025, -0.048872180451127845, -0.03383458646616544, -0.018796992481203034, -0.003759398496240629, 0.011278195488721776, 0.02631578947368418, 0.041353383458646586, 0.05639097744360899, 0.0714285714285714, 0.0864661654135338, 0.10150375939849621, 0.11654135338345861, 0.13157894736842102, 0.14661654135338342, 0.16165413533834583, 0.17669172932330823, 0.19172932330827064, 0.20676691729323304, 0.22180451127819545, 0.23684210526315785, 0.25187969924812026, 0.26691729323308266, 0.28195488721804507, 0.2969924812030075, 0.3120300751879699, 0.3270676691729323, 0.3421052631578947, 0.3571428571428571, 0.3721804511278195, 0.3872180451127819, 0.4022556390977443, 0.4172932330827067, 0.4323308270676691, 0.4473684210526315, 0.46240601503759393, 0.47744360902255634, 0.49248120300751874, 0.507518796992481, 0.5225563909774436, 0.5375939849624061, 0.5526315789473684, 0.5676691729323307, 0.5827067669172932, 0.5977443609022557, 0.612781954887218, 0.6278195488721803, 0.6428571428571428, 0.6578947368421053, 0.6729323308270676, 0.6879699248120299, 0.7030075187969924, 0.7180451127819549, 0.7330827067669172, 0.7481203007518795, 0.763157894736842, 0.7781954887218046, 0.7932330827067668, 0.8082706766917291, 0.8233082706766917, 0.8383458646616542, 0.8533834586466165, 0.8684210526315788, 0.8834586466165413, 0.8984962406015038, 0.9135338345864661, 0.9285714285714284, 0.9436090225563909, 0.9586466165413534, 0.9736842105263157, 0.988721804511278, 1.0037593984962405, 1.018796992481203, 1.0338345864661653, 1.0488721804511276, 1.0639097744360901, 1.0789473684210527, 1.093984962406015, 1.1090225563909772, 1.1240601503759398, 1.1390977443609023, 1.1541353383458646, 1.1691729323308269, 1.1842105263157894, 1.199248120300752, 1.2142857142857142, 1.2293233082706765, 1.244360902255639, 1.2593984962406015, 1.2744360902255638, 1.289473684210526, 1.3045112781954886, 1.3195488721804511, 1.3345864661654134, 1.3496240601503757, 1.3646616541353382, 1.3796992481203008, 1.394736842105263, 1.4097744360902253, 1.4248120300751879, 1.4398496240601504, 1.4548872180451127, 1.469924812030075, 1.4849624060150375, 1.5, 1.515037593984962, 1.5300751879699246, 1.545112781954887, 1.5601503759398496, 1.5751879699248121, 1.5902255639097742, 1.6052631578947367, 1.6203007518796992, 1.6353383458646613, 1.6503759398496238, 1.6654135338345863, 1.6804511278195489, 1.6954887218045114, 1.7105263157894735, 1.725563909774436, 1.7406015037593985, 1.7556390977443606, 1.770676691729323, 1.7857142857142856, 1.800751879699248, 1.8157894736842106, 1.8308270676691727, 1.8458646616541352, 1.8609022556390977, 1.8759398496240598, 1.8909774436090223, 1.9060150375939848, 1.9210526315789473, 1.9360902255639099, 1.951127819548872, 1.9661654135338344, 1.981203007518797, 1.996240601503759, 2.0112781954887216, 2.026315789473684, 2.0413533834586466, 2.056390977443609, 2.071428571428571, 2.0864661654135337, 2.101503759398496, 2.1165413533834583, 2.131578947368421, 2.1466165413533833, 2.161654135338346, 2.1766917293233083, 2.1917293233082704, 2.206766917293233, 2.2218045112781954, 2.2368421052631575, 2.25187969924812, 2.2669172932330826, 2.281954887218045, 2.2969924812030076, 2.3120300751879697, 2.327067669172932, 2.3421052631578947, 2.3571428571428568, 2.3721804511278193, 2.387218045112782, 2.4022556390977443, 2.417293233082707, 2.432330827067669, 2.4473684210526314, 2.462406015037594, 2.477443609022556, 2.4924812030075185, 2.507518796992481, 2.5225563909774436, 2.537593984962406, 2.552631578947368, 2.5676691729323307, 2.582706766917293, 2.5977443609022552, 2.6127819548872178, 2.6278195488721803, 2.642857142857143, 2.6578947368421053, 2.6729323308270674, 2.68796992481203, 2.7030075187969924, 2.7180451127819545, 2.733082706766917, 2.7481203007518795, 2.763157894736842, 2.7781954887218046, 2.7932330827067666, 2.808270676691729, 2.8233082706766917, 2.8383458646616537, 2.8533834586466162, 2.8684210526315788, 2.8834586466165413, 2.898496240601504, 2.913533834586466, 2.9285714285714284, 2.943609022556391, 2.958646616541353, 2.9736842105263155, 2.988721804511278, 3.0037593984962405, 3.018796992481203, 3.033834586466165, 3.0488721804511276, 3.06390977443609, 3.078947368421052, 3.0939849624060147, 3.1090225563909772, 3.1240601503759398, 3.1390977443609023, 3.1541353383458643, 3.169172932330827, 3.1842105263157894, 3.1992481203007515, 3.214285714285714, 3.2293233082706765, 3.244360902255639, 3.2593984962406015, 3.2744360902255636, 3.289473684210526, 3.3045112781954886, 3.3195488721804507, 3.334586466165413, 3.3496240601503757, 3.3646616541353382, 3.3796992481203008, 3.394736842105263, 3.4097744360902253, 3.424812030075188, 3.43984962406015, 3.4548872180451125, 3.469924812030075, 3.4849624060150375, 3.5]}],                        {\"annotations\": [{\"font\": {\"family\": \"Arial\", \"size\": 16}, \"showarrow\": false, \"text\": \"100%\", \"textangle\": -90, \"x\": -2, \"y\": 1.5}], \"height\": 150.0, \"margin\": {\"b\": 0, \"l\": 0, \"r\": 0, \"t\": 30}, \"paper_bgcolor\": \"rgba(255,255,255,1)\", \"plot_bgcolor\": \"rgba(0,0,0,0)\", \"showlegend\": false, \"template\": {\"data\": {\"bar\": [{\"error_x\": {\"color\": \"#2a3f5f\"}, \"error_y\": {\"color\": \"#2a3f5f\"}, \"marker\": {\"line\": {\"color\": \"#E5ECF6\", \"width\": 0.5}}, \"type\": \"bar\"}], \"barpolar\": [{\"marker\": {\"line\": {\"color\": \"#E5ECF6\", \"width\": 0.5}}, \"type\": \"barpolar\"}], \"carpet\": [{\"aaxis\": {\"endlinecolor\": \"#2a3f5f\", \"gridcolor\": \"white\", \"linecolor\": \"white\", \"minorgridcolor\": \"white\", \"startlinecolor\": \"#2a3f5f\"}, \"baxis\": {\"endlinecolor\": \"#2a3f5f\", \"gridcolor\": \"white\", \"linecolor\": \"white\", \"minorgridcolor\": \"white\", \"startlinecolor\": \"#2a3f5f\"}, \"type\": \"carpet\"}], \"choropleth\": [{\"colorbar\": {\"outlinewidth\": 0, \"ticks\": \"\"}, \"type\": \"choropleth\"}], \"contour\": [{\"colorbar\": {\"outlinewidth\": 0, \"ticks\": \"\"}, \"colorscale\": [[0.0, \"#0d0887\"], [0.1111111111111111, \"#46039f\"], [0.2222222222222222, \"#7201a8\"], [0.3333333333333333, \"#9c179e\"], [0.4444444444444444, \"#bd3786\"], [0.5555555555555556, \"#d8576b\"], [0.6666666666666666, \"#ed7953\"], [0.7777777777777778, \"#fb9f3a\"], [0.8888888888888888, \"#fdca26\"], [1.0, \"#f0f921\"]], \"type\": \"contour\"}], \"contourcarpet\": [{\"colorbar\": {\"outlinewidth\": 0, \"ticks\": \"\"}, \"type\": \"contourcarpet\"}], \"heatmap\": [{\"colorbar\": {\"outlinewidth\": 0, \"ticks\": \"\"}, \"colorscale\": [[0.0, \"#0d0887\"], [0.1111111111111111, \"#46039f\"], [0.2222222222222222, \"#7201a8\"], [0.3333333333333333, \"#9c179e\"], [0.4444444444444444, \"#bd3786\"], [0.5555555555555556, \"#d8576b\"], [0.6666666666666666, \"#ed7953\"], [0.7777777777777778, \"#fb9f3a\"], [0.8888888888888888, \"#fdca26\"], [1.0, \"#f0f921\"]], \"type\": \"heatmap\"}], \"heatmapgl\": [{\"colorbar\": {\"outlinewidth\": 0, \"ticks\": \"\"}, \"colorscale\": [[0.0, \"#0d0887\"], [0.1111111111111111, \"#46039f\"], [0.2222222222222222, \"#7201a8\"], [0.3333333333333333, \"#9c179e\"], [0.4444444444444444, \"#bd3786\"], [0.5555555555555556, \"#d8576b\"], [0.6666666666666666, \"#ed7953\"], [0.7777777777777778, \"#fb9f3a\"], [0.8888888888888888, \"#fdca26\"], [1.0, \"#f0f921\"]], \"type\": \"heatmapgl\"}], \"histogram\": [{\"marker\": {\"colorbar\": {\"outlinewidth\": 0, \"ticks\": \"\"}}, \"type\": \"histogram\"}], \"histogram2d\": [{\"colorbar\": {\"outlinewidth\": 0, \"ticks\": \"\"}, \"colorscale\": [[0.0, \"#0d0887\"], [0.1111111111111111, \"#46039f\"], [0.2222222222222222, \"#7201a8\"], [0.3333333333333333, \"#9c179e\"], [0.4444444444444444, \"#bd3786\"], [0.5555555555555556, \"#d8576b\"], [0.6666666666666666, \"#ed7953\"], [0.7777777777777778, \"#fb9f3a\"], [0.8888888888888888, \"#fdca26\"], [1.0, \"#f0f921\"]], \"type\": \"histogram2d\"}], \"histogram2dcontour\": [{\"colorbar\": {\"outlinewidth\": 0, \"ticks\": \"\"}, \"colorscale\": [[0.0, \"#0d0887\"], [0.1111111111111111, \"#46039f\"], [0.2222222222222222, \"#7201a8\"], [0.3333333333333333, \"#9c179e\"], [0.4444444444444444, \"#bd3786\"], [0.5555555555555556, \"#d8576b\"], [0.6666666666666666, \"#ed7953\"], [0.7777777777777778, \"#fb9f3a\"], [0.8888888888888888, \"#fdca26\"], [1.0, \"#f0f921\"]], \"type\": \"histogram2dcontour\"}], \"mesh3d\": [{\"colorbar\": {\"outlinewidth\": 0, \"ticks\": \"\"}, \"type\": \"mesh3d\"}], \"parcoords\": [{\"line\": {\"colorbar\": {\"outlinewidth\": 0, \"ticks\": \"\"}}, \"type\": \"parcoords\"}], \"pie\": [{\"automargin\": true, \"type\": \"pie\"}], \"scatter\": [{\"marker\": {\"colorbar\": {\"outlinewidth\": 0, \"ticks\": \"\"}}, \"type\": \"scatter\"}], \"scatter3d\": [{\"line\": {\"colorbar\": {\"outlinewidth\": 0, \"ticks\": \"\"}}, \"marker\": {\"colorbar\": {\"outlinewidth\": 0, \"ticks\": \"\"}}, \"type\": \"scatter3d\"}], \"scattercarpet\": [{\"marker\": {\"colorbar\": {\"outlinewidth\": 0, \"ticks\": \"\"}}, \"type\": \"scattercarpet\"}], \"scattergeo\": [{\"marker\": {\"colorbar\": {\"outlinewidth\": 0, \"ticks\": \"\"}}, \"type\": \"scattergeo\"}], \"scattergl\": [{\"marker\": {\"colorbar\": {\"outlinewidth\": 0, \"ticks\": \"\"}}, \"type\": \"scattergl\"}], \"scattermapbox\": [{\"marker\": {\"colorbar\": {\"outlinewidth\": 0, \"ticks\": \"\"}}, \"type\": \"scattermapbox\"}], \"scatterpolar\": [{\"marker\": {\"colorbar\": {\"outlinewidth\": 0, \"ticks\": \"\"}}, \"type\": \"scatterpolar\"}], \"scatterpolargl\": [{\"marker\": {\"colorbar\": {\"outlinewidth\": 0, \"ticks\": \"\"}}, \"type\": \"scatterpolargl\"}], \"scatterternary\": [{\"marker\": {\"colorbar\": {\"outlinewidth\": 0, \"ticks\": \"\"}}, \"type\": \"scatterternary\"}], \"surface\": [{\"colorbar\": {\"outlinewidth\": 0, \"ticks\": \"\"}, \"colorscale\": [[0.0, \"#0d0887\"], [0.1111111111111111, \"#46039f\"], [0.2222222222222222, \"#7201a8\"], [0.3333333333333333, \"#9c179e\"], [0.4444444444444444, \"#bd3786\"], [0.5555555555555556, \"#d8576b\"], [0.6666666666666666, \"#ed7953\"], [0.7777777777777778, \"#fb9f3a\"], [0.8888888888888888, \"#fdca26\"], [1.0, \"#f0f921\"]], \"type\": \"surface\"}], \"table\": [{\"cells\": {\"fill\": {\"color\": \"#EBF0F8\"}, \"line\": {\"color\": \"white\"}}, \"header\": {\"fill\": {\"color\": \"#C8D4E3\"}, \"line\": {\"color\": \"white\"}}, \"type\": \"table\"}]}, \"layout\": {\"annotationdefaults\": {\"arrowcolor\": \"#2a3f5f\", \"arrowhead\": 0, \"arrowwidth\": 1}, \"autotypenumbers\": \"strict\", \"coloraxis\": {\"colorbar\": {\"outlinewidth\": 0, \"ticks\": \"\"}}, \"colorscale\": {\"diverging\": [[0, \"#8e0152\"], [0.1, \"#c51b7d\"], [0.2, \"#de77ae\"], [0.3, \"#f1b6da\"], [0.4, \"#fde0ef\"], [0.5, \"#f7f7f7\"], [0.6, \"#e6f5d0\"], [0.7, \"#b8e186\"], [0.8, \"#7fbc41\"], [0.9, \"#4d9221\"], [1, \"#276419\"]], \"sequential\": [[0.0, \"#0d0887\"], [0.1111111111111111, \"#46039f\"], [0.2222222222222222, \"#7201a8\"], [0.3333333333333333, \"#9c179e\"], [0.4444444444444444, \"#bd3786\"], [0.5555555555555556, \"#d8576b\"], [0.6666666666666666, \"#ed7953\"], [0.7777777777777778, \"#fb9f3a\"], [0.8888888888888888, \"#fdca26\"], [1.0, \"#f0f921\"]], \"sequentialminus\": [[0.0, \"#0d0887\"], [0.1111111111111111, \"#46039f\"], [0.2222222222222222, \"#7201a8\"], [0.3333333333333333, \"#9c179e\"], [0.4444444444444444, \"#bd3786\"], [0.5555555555555556, \"#d8576b\"], [0.6666666666666666, \"#ed7953\"], [0.7777777777777778, \"#fb9f3a\"], [0.8888888888888888, \"#fdca26\"], [1.0, \"#f0f921\"]]}, \"colorway\": [\"#636efa\", \"#EF553B\", \"#00cc96\", \"#ab63fa\", \"#FFA15A\", \"#19d3f3\", \"#FF6692\", \"#B6E880\", \"#FF97FF\", \"#FECB52\"], \"font\": {\"color\": \"#2a3f5f\"}, \"geo\": {\"bgcolor\": \"white\", \"lakecolor\": \"white\", \"landcolor\": \"#E5ECF6\", \"showlakes\": true, \"showland\": true, \"subunitcolor\": \"white\"}, \"hoverlabel\": {\"align\": \"left\"}, \"hovermode\": \"closest\", \"mapbox\": {\"style\": \"light\"}, \"paper_bgcolor\": \"white\", \"plot_bgcolor\": \"#E5ECF6\", \"polar\": {\"angularaxis\": {\"gridcolor\": \"white\", \"linecolor\": \"white\", \"ticks\": \"\"}, \"bgcolor\": \"#E5ECF6\", \"radialaxis\": {\"gridcolor\": \"white\", \"linecolor\": \"white\", \"ticks\": \"\"}}, \"scene\": {\"xaxis\": {\"backgroundcolor\": \"#E5ECF6\", \"gridcolor\": \"white\", \"gridwidth\": 2, \"linecolor\": \"white\", \"showbackground\": true, \"ticks\": \"\", \"zerolinecolor\": \"white\"}, \"yaxis\": {\"backgroundcolor\": \"#E5ECF6\", \"gridcolor\": \"white\", \"gridwidth\": 2, \"linecolor\": \"white\", \"showbackground\": true, \"ticks\": \"\", \"zerolinecolor\": \"white\"}, \"zaxis\": {\"backgroundcolor\": \"#E5ECF6\", \"gridcolor\": \"white\", \"gridwidth\": 2, \"linecolor\": \"white\", \"showbackground\": true, \"ticks\": \"\", \"zerolinecolor\": \"white\"}}, \"shapedefaults\": {\"line\": {\"color\": \"#2a3f5f\"}}, \"ternary\": {\"aaxis\": {\"gridcolor\": \"white\", \"linecolor\": \"white\", \"ticks\": \"\"}, \"baxis\": {\"gridcolor\": \"white\", \"linecolor\": \"white\", \"ticks\": \"\"}, \"bgcolor\": \"#E5ECF6\", \"caxis\": {\"gridcolor\": \"white\", \"linecolor\": \"white\", \"ticks\": \"\"}}, \"title\": {\"x\": 0.05}, \"xaxis\": {\"automargin\": true, \"gridcolor\": \"white\", \"linecolor\": \"white\", \"ticks\": \"\", \"title\": {\"standoff\": 15}, \"zerolinecolor\": \"white\", \"zerolinewidth\": 2}, \"yaxis\": {\"automargin\": true, \"gridcolor\": \"white\", \"linecolor\": \"white\", \"ticks\": \"\", \"title\": {\"standoff\": 15}, \"zerolinecolor\": \"white\", \"zerolinewidth\": 2}}}, \"title\": {\"text\": \"\"}, \"width\": 350, \"xaxis\": {\"scaleanchor\": \"y\", \"scaleratio\": 1, \"showgrid\": false, \"showline\": false, \"showticklabels\": false, \"visible\": false, \"zeroline\": false}, \"yaxis\": {\"constrain\": \"domain\", \"range\": [-1, 4.0], \"showgrid\": false, \"showline\": false, \"showticklabels\": false, \"visible\": false, \"zeroline\": false}},                        {\"responsive\": true}                    ).then(function(){\n",
       "                            \n",
       "var gd = document.getElementById('70ac370a-5108-4a62-92ab-c005928c74ef');\n",
       "var x = new MutationObserver(function (mutations, observer) {{\n",
       "        var display = window.getComputedStyle(gd).display;\n",
       "        if (!display || display === 'none') {{\n",
       "            console.log([gd, 'removed!']);\n",
       "            Plotly.purge(gd);\n",
       "            observer.disconnect();\n",
       "        }}\n",
       "}});\n",
       "\n",
       "// Listen for the removal of the full notebook cells\n",
       "var notebookContainer = gd.closest('#notebook-container');\n",
       "if (notebookContainer) {{\n",
       "    x.observe(notebookContainer, {childList: true});\n",
       "}}\n",
       "\n",
       "// Listen for the clearing of the current output cell\n",
       "var outputEl = gd.closest('.output');\n",
       "if (outputEl) {{\n",
       "    x.observe(outputEl, {childList: true});\n",
       "}}\n",
       "\n",
       "                        })                };                });            </script>        </div>"
      ]
     },
     "metadata": {},
     "output_type": "display_data"
    }
   ],
   "source": [
    "val_freq_plot(expt1_materials_forChi, 'louise_shopping', 'UNEXP-BAD', expt1,\n",
    "                  10,\n",
    "#                   title= str(mat+\" \"+cond), \n",
    "                  x_block_size=10, \n",
    "                  y_block_size=10, \n",
    "                  gap_size=0.5, \n",
    "                  w=35, \n",
    "                  h=50,\n",
    "                  brace_space_left=-0.3,\n",
    "                  brace_space_right=.5)"
   ]
  },
  {
   "cell_type": "markdown",
   "id": "ff690e2c",
   "metadata": {
    "slideshow": {
     "slide_type": "slide"
    }
   },
   "source": [
    "# Experiment 3: _a priori_ Valenced Materials"
   ]
  },
  {
   "cell_type": "markdown",
   "id": "3e1dcb93",
   "metadata": {},
   "source": [
    "## Get data, set up materials list, etc."
   ]
  },
  {
   "cell_type": "code",
   "execution_count": 12,
   "id": "441d1540",
   "metadata": {
    "slideshow": {
     "slide_type": "skip"
    }
   },
   "outputs": [
    {
     "data": {
      "text/html": [
       "<div>\n",
       "<style scoped>\n",
       "    .dataframe tbody tr th:only-of-type {\n",
       "        vertical-align: middle;\n",
       "    }\n",
       "\n",
       "    .dataframe tbody tr th {\n",
       "        vertical-align: top;\n",
       "    }\n",
       "\n",
       "    .dataframe thead th {\n",
       "        text-align: right;\n",
       "    }\n",
       "</style>\n",
       "<table border=\"1\" class=\"dataframe\">\n",
       "  <thead>\n",
       "    <tr style=\"text-align: right;\">\n",
       "      <th></th>\n",
       "      <th>Unnamed: 0</th>\n",
       "      <th>user_id</th>\n",
       "      <th>answer_text</th>\n",
       "      <th>expt</th>\n",
       "      <th>ans_code</th>\n",
       "      <th>ans_count</th>\n",
       "      <th>val_code</th>\n",
       "      <th>val_count</th>\n",
       "      <th>material</th>\n",
       "      <th>cond</th>\n",
       "    </tr>\n",
       "  </thead>\n",
       "  <tbody>\n",
       "    <tr>\n",
       "      <th>0</th>\n",
       "      <td>0</td>\n",
       "      <td>2.216.190.219</td>\n",
       "      <td>He is delayed in traffic.</td>\n",
       "      <td>expt3_2</td>\n",
       "      <td>sd_neg_ans1</td>\n",
       "      <td>1.0</td>\n",
       "      <td>neg</td>\n",
       "      <td>1.0</td>\n",
       "      <td>sam_driving</td>\n",
       "      <td>neg_mat</td>\n",
       "    </tr>\n",
       "    <tr>\n",
       "      <th>1</th>\n",
       "      <td>1</td>\n",
       "      <td>2.216.190.219</td>\n",
       "      <td>He is involved in an accident.</td>\n",
       "      <td>expt3_2</td>\n",
       "      <td>pc_neg_ans1</td>\n",
       "      <td>1.0</td>\n",
       "      <td>neg</td>\n",
       "      <td>1.0</td>\n",
       "      <td>peter_college</td>\n",
       "      <td>neg_mat</td>\n",
       "    </tr>\n",
       "    <tr>\n",
       "      <th>2</th>\n",
       "      <td>2</td>\n",
       "      <td>2.216.190.219</td>\n",
       "      <td>He is offered a promotion.</td>\n",
       "      <td>expt3_2</td>\n",
       "      <td>bj_pos_ans2</td>\n",
       "      <td>1.0</td>\n",
       "      <td>pos</td>\n",
       "      <td>1.0</td>\n",
       "      <td>bob_job</td>\n",
       "      <td>pos_mat</td>\n",
       "    </tr>\n",
       "    <tr>\n",
       "      <th>3</th>\n",
       "      <td>3</td>\n",
       "      <td>2.216.190.219</td>\n",
       "      <td>His computer crashes and he loses the work,.</td>\n",
       "      <td>expt3_2</td>\n",
       "      <td>re_neg_ans2</td>\n",
       "      <td>1.0</td>\n",
       "      <td>neg</td>\n",
       "      <td>1.0</td>\n",
       "      <td>robert_essay</td>\n",
       "      <td>neg_mat</td>\n",
       "    </tr>\n",
       "    <tr>\n",
       "      <th>4</th>\n",
       "      <td>4</td>\n",
       "      <td>2.216.190.219</td>\n",
       "      <td>She eats the ;pizza crusts.</td>\n",
       "      <td>expt3_2</td>\n",
       "      <td>other</td>\n",
       "      <td>1.0</td>\n",
       "      <td>neg</td>\n",
       "      <td>1.0</td>\n",
       "      <td>mary_food</td>\n",
       "      <td>neg_mat</td>\n",
       "    </tr>\n",
       "  </tbody>\n",
       "</table>\n",
       "</div>"
      ],
      "text/plain": [
       "   Unnamed: 0        user_id                                   answer_text  \\\n",
       "0           0  2.216.190.219                     He is delayed in traffic.   \n",
       "1           1  2.216.190.219                He is involved in an accident.   \n",
       "2           2  2.216.190.219                    He is offered a promotion.   \n",
       "3           3  2.216.190.219  His computer crashes and he loses the work,.   \n",
       "4           4  2.216.190.219                   She eats the ;pizza crusts.   \n",
       "\n",
       "      expt     ans_code  ans_count val_code  val_count       material     cond  \n",
       "0  expt3_2  sd_neg_ans1        1.0      neg        1.0    sam_driving  neg_mat  \n",
       "1  expt3_2  pc_neg_ans1        1.0      neg        1.0  peter_college  neg_mat  \n",
       "2  expt3_2  bj_pos_ans2        1.0      pos        1.0        bob_job  pos_mat  \n",
       "3  expt3_2  re_neg_ans2        1.0      neg        1.0   robert_essay  neg_mat  \n",
       "4  expt3_2        other        1.0      neg        1.0      mary_food  neg_mat  "
      ]
     },
     "execution_count": 12,
     "metadata": {},
     "output_type": "execute_result"
    }
   ],
   "source": [
    "expt3 = pd.read_csv(\"0_data/expt3_master_post_resolve.csv\")\n",
    "expt3.head()"
   ]
  },
  {
   "cell_type": "code",
   "execution_count": 13,
   "id": "ed734eef",
   "metadata": {
    "slideshow": {
     "slide_type": "skip"
    }
   },
   "outputs": [
    {
     "data": {
      "text/plain": [
       "array(['sam_driving', 'peter_college', 'bob_job', 'robert_essay',\n",
       "       'mary_food', 'belinda_meeting', 'sally_wine', 'lucy_loan',\n",
       "       'steve_garden', 'louise_shopping'], dtype=object)"
      ]
     },
     "execution_count": 13,
     "metadata": {},
     "output_type": "execute_result"
    }
   ],
   "source": [
    "# get set of materials\n",
    "materials = expt3['material'].dropna().unique()\n",
    "materials"
   ]
  },
  {
   "cell_type": "code",
   "execution_count": 14,
   "id": "44e14e86",
   "metadata": {},
   "outputs": [
    {
     "data": {
      "text/html": [
       "<div>\n",
       "<style scoped>\n",
       "    .dataframe tbody tr th:only-of-type {\n",
       "        vertical-align: middle;\n",
       "    }\n",
       "\n",
       "    .dataframe tbody tr th {\n",
       "        vertical-align: top;\n",
       "    }\n",
       "\n",
       "    .dataframe thead th {\n",
       "        text-align: right;\n",
       "    }\n",
       "</style>\n",
       "<table border=\"1\" class=\"dataframe\">\n",
       "  <thead>\n",
       "    <tr style=\"text-align: right;\">\n",
       "      <th></th>\n",
       "      <th>Material</th>\n",
       "      <th>Sent_1</th>\n",
       "      <th>Sent_2_POS</th>\n",
       "      <th>Sent_2_NEG</th>\n",
       "      <th>Sent_3</th>\n",
       "      <th>Comment</th>\n",
       "    </tr>\n",
       "  </thead>\n",
       "  <tbody>\n",
       "    <tr>\n",
       "      <th>0</th>\n",
       "      <td>anna_interview</td>\n",
       "      <td>Anna has an important job interview to attend ...</td>\n",
       "      <td>She is feeling confident and thinks she will g...</td>\n",
       "      <td>She is feeling nervous and thinks she will not...</td>\n",
       "      <td>Going to bed, Anna sets her alarm clock for 7am.</td>\n",
       "      <td>Sent2-change only</td>\n",
       "    </tr>\n",
       "    <tr>\n",
       "      <th>1</th>\n",
       "      <td>alan_plane</td>\n",
       "      <td>Alan has a plane to catch, that is departing f...</td>\n",
       "      <td>He is looking forward to his flight, because h...</td>\n",
       "      <td>He is worried about his flight, because he is ...</td>\n",
       "      <td>At the airport, Alan checks his bags in at the...</td>\n",
       "      <td>Sent2-change only</td>\n",
       "    </tr>\n",
       "    <tr>\n",
       "      <th>2</th>\n",
       "      <td>belinda_meeting</td>\n",
       "      <td>Belinda is on a plane going to Los Angeles for...</td>\n",
       "      <td>She loves these meetings in Los Angeles becaus...</td>\n",
       "      <td>She hates these meetings in Los Angeles becaus...</td>\n",
       "      <td>When Belinda reaches Los Angeles, she takes a ...</td>\n",
       "      <td>Sent2-change only</td>\n",
       "    </tr>\n",
       "    <tr>\n",
       "      <th>3</th>\n",
       "      <td>bill_holiday</td>\n",
       "      <td>Bill is going on his summer holidays, as it is...</td>\n",
       "      <td>He wakes up refreshed after having a good nigh...</td>\n",
       "      <td>He wakes up exhausted after having a bad night...</td>\n",
       "      <td>Bill packs his passport in his suitcase for th...</td>\n",
       "      <td>Sent1-change Sent2-change</td>\n",
       "    </tr>\n",
       "    <tr>\n",
       "      <th>4</th>\n",
       "      <td>bob_job</td>\n",
       "      <td>Bob has been working for an IT company for thr...</td>\n",
       "      <td>He is happy in his job and  his hard work is w...</td>\n",
       "      <td>He is unhappy in his job and his hard work is ...</td>\n",
       "      <td>At coffee-time, Bob goes to talk to his boss a...</td>\n",
       "      <td>Sent1-change Sent2-change</td>\n",
       "    </tr>\n",
       "  </tbody>\n",
       "</table>\n",
       "</div>"
      ],
      "text/plain": [
       "          Material                                             Sent_1  \\\n",
       "0   anna_interview  Anna has an important job interview to attend ...   \n",
       "1       alan_plane  Alan has a plane to catch, that is departing f...   \n",
       "2  belinda_meeting  Belinda is on a plane going to Los Angeles for...   \n",
       "3     bill_holiday  Bill is going on his summer holidays, as it is...   \n",
       "4          bob_job  Bob has been working for an IT company for thr...   \n",
       "\n",
       "                                          Sent_2_POS  \\\n",
       "0  She is feeling confident and thinks she will g...   \n",
       "1  He is looking forward to his flight, because h...   \n",
       "2  She loves these meetings in Los Angeles becaus...   \n",
       "3  He wakes up refreshed after having a good nigh...   \n",
       "4  He is happy in his job and  his hard work is w...   \n",
       "\n",
       "                                          Sent_2_NEG  \\\n",
       "0  She is feeling nervous and thinks she will not...   \n",
       "1  He is worried about his flight, because he is ...   \n",
       "2  She hates these meetings in Los Angeles becaus...   \n",
       "3  He wakes up exhausted after having a bad night...   \n",
       "4  He is unhappy in his job and his hard work is ...   \n",
       "\n",
       "                                              Sent_3  \\\n",
       "0   Going to bed, Anna sets her alarm clock for 7am.   \n",
       "1  At the airport, Alan checks his bags in at the...   \n",
       "2  When Belinda reaches Los Angeles, she takes a ...   \n",
       "3  Bill packs his passport in his suitcase for th...   \n",
       "4  At coffee-time, Bob goes to talk to his boss a...   \n",
       "\n",
       "                      Comment  \n",
       "0           Sent2-change only  \n",
       "1           Sent2-change only  \n",
       "2           Sent2-change only  \n",
       "3  Sent1-change Sent2-change   \n",
       "4  Sent1-change Sent2-change   "
      ]
     },
     "execution_count": 14,
     "metadata": {},
     "output_type": "execute_result"
    }
   ],
   "source": [
    "scenarios = pd.read_csv(\"0_data/materials/Expt3_Materials.csv\", encoding='latin-1')\n",
    "scenarios.head()"
   ]
  },
  {
   "cell_type": "code",
   "execution_count": 15,
   "id": "a7c7dd8d",
   "metadata": {},
   "outputs": [],
   "source": [
    "dict_scenarios = {}\n",
    "for material in materials:\n",
    "    dict_scenarios[material] = {'pos':\"\\n\\n\".join(scenarios[scenarios['Material']==material][['Sent_1','Sent_2_POS','Sent_3']].values.tolist()[0]),\n",
    "                                'neg':\"\\n\\n\".join(scenarios[scenarios['Material']==material][['Sent_1','Sent_2_POS','Sent_3']].values.tolist()[0])}\n"
   ]
  },
  {
   "cell_type": "code",
   "execution_count": 16,
   "id": "aee0c825",
   "metadata": {
    "slideshow": {
     "slide_type": "skip"
    }
   },
   "outputs": [],
   "source": [
    "# get answer frequencies by material, valence condition, and valence label\n",
    "expt3_material_valence = expt3.groupby(['material','cond','val_code']).count()['user_id'].reset_index()\n",
    "#expt3_material_valence.head()"
   ]
  },
  {
   "cell_type": "code",
   "execution_count": 17,
   "id": "43e1f604",
   "metadata": {
    "scrolled": true,
    "slideshow": {
     "slide_type": "skip"
    }
   },
   "outputs": [
    {
     "data": {
      "text/html": [
       "<div>\n",
       "<style scoped>\n",
       "    .dataframe tbody tr th:only-of-type {\n",
       "        vertical-align: middle;\n",
       "    }\n",
       "\n",
       "    .dataframe tbody tr th {\n",
       "        vertical-align: top;\n",
       "    }\n",
       "\n",
       "    .dataframe thead th {\n",
       "        text-align: right;\n",
       "    }\n",
       "</style>\n",
       "<table border=\"1\" class=\"dataframe\">\n",
       "  <thead>\n",
       "    <tr style=\"text-align: right;\">\n",
       "      <th></th>\n",
       "      <th>val_code</th>\n",
       "      <th>neg</th>\n",
       "      <th>pos</th>\n",
       "    </tr>\n",
       "    <tr>\n",
       "      <th>material</th>\n",
       "      <th>cond</th>\n",
       "      <th></th>\n",
       "      <th></th>\n",
       "    </tr>\n",
       "  </thead>\n",
       "  <tbody>\n",
       "    <tr>\n",
       "      <th rowspan=\"2\" valign=\"top\">belinda_meeting</th>\n",
       "      <th>neg_mat</th>\n",
       "      <td>24.0</td>\n",
       "      <td>24.0</td>\n",
       "    </tr>\n",
       "    <tr>\n",
       "      <th>pos_mat</th>\n",
       "      <td>42.0</td>\n",
       "      <td>7.0</td>\n",
       "    </tr>\n",
       "    <tr>\n",
       "      <th rowspan=\"2\" valign=\"top\">bob_job</th>\n",
       "      <th>neg_mat</th>\n",
       "      <td>16.0</td>\n",
       "      <td>34.0</td>\n",
       "    </tr>\n",
       "    <tr>\n",
       "      <th>pos_mat</th>\n",
       "      <td>20.0</td>\n",
       "      <td>30.0</td>\n",
       "    </tr>\n",
       "    <tr>\n",
       "      <th>louise_shopping</th>\n",
       "      <th>neg_mat</th>\n",
       "      <td>26.0</td>\n",
       "      <td>25.0</td>\n",
       "    </tr>\n",
       "  </tbody>\n",
       "</table>\n",
       "</div>"
      ],
      "text/plain": [
       "val_code                  neg   pos\n",
       "material        cond               \n",
       "belinda_meeting neg_mat  24.0  24.0\n",
       "                pos_mat  42.0   7.0\n",
       "bob_job         neg_mat  16.0  34.0\n",
       "                pos_mat  20.0  30.0\n",
       "louise_shopping neg_mat  26.0  25.0"
      ]
     },
     "execution_count": 17,
     "metadata": {},
     "output_type": "execute_result"
    }
   ],
   "source": [
    "expt3_material_valence_pivot = expt3_material_valence.pivot_table(index = ['material','cond'], \n",
    "                                                            columns='val_code', \n",
    "                                                            values='user_id')\n",
    "expt3_materials_forChi = expt3_material_valence_pivot[['neg','pos']]\n",
    "expt3_materials_forChi.head()"
   ]
  },
  {
   "cell_type": "code",
   "execution_count": 44,
   "id": "cb588c9e",
   "metadata": {},
   "outputs": [
    {
     "data": {
      "application/vnd.plotly.v1+json": {
       "config": {
        "plotlyServerURL": "https://plot.ly"
       },
       "data": [
        {
         "hoverinfo": "text",
         "hovertext": [
          "The money has not been paid.",
          "Louise is mugged at the ATM",
          "Her credit card disappears in<br>the ATM machine",
          "Some one robs her",
          "Instead if euros the ATM spits<br>out dollars",
          "The money blows away",
          "she goes to draw money from<br>the ATM and has no money",
          "The ATM swallows her card.",
          "The ATM ate her card.",
          "The store is closed when she<br>gets there",
          "She gets robbed",
          "she had less money in her<br>account than expected",
          "The ATM swallows her card and<br>she is unable to take out the<br>money",
          "Upon withdrawing money from<br>the ATM she finds she has no<br>money left in her account the<br>rest of her money has<br>disappeared and she has to<br>contact her bank.",
          "She gets mugged on the way to<br>the store and all her money is<br>stolen. She will never own a<br>Gucci bag now. It's very sad.",
          "She went into the shop and<br>tried to purchase those<br>ridiculous baggy short<br>trousers that are all the rage<br>among hipsters these days.<br>However, upon arriving at the<br>counter to pay, she was<br>intercepted by the Gardai and<br>arrested for crimes against<br>common decency and spent the<br>next 15 years in Portlaoise<br>prison being flogged 5 times a<br>day with a pair of 1970s<br>original Levi Strauss flares.",
          "Gets mugged",
          "Louise goes to the expensive<br>clothes shop and she spends a<br>lot of time looking around but<br>doesn't actually buy anything<br>because there is nothing she<br>likes.",
          "She can't find anything she<br>wants to buy.",
          "She spends it all",
          "An unexpected bill has been<br>taken out of her account and<br>her balance is much lower than<br>she thought it would be.",
          "She gets mugged and they take<br>all her money",
          "She has less money in her bank<br>account than she thought",
          "The ATM is actually a<br>transformer and shoots her",
          "She loses the money",
          "It did not issue her her<br>money.",
          "There is not enough money in<br>her account.",
          "She spent all of her pay raise<br>at the expensive clothing<br>stores.",
          "Her paycheck hadn't been<br>adjusted for her pay raise",
          "The machine doesnt give her<br>the right money",
          "She withdrew false currency.",
          "She does not buy anything from<br>this shop.",
          "There was not enough money in<br>her account to withdraw",
          "the shop doesnt take cash",
          "Her balance was zero at the<br>ATM",
          "She forgets her bank card in<br>the ATM.",
          "the store is closed",
          "Her handbag was stolen",
          "the shop is closed",
          "The atm didn't work",
          "Her pay rise doesn't register<br>on her account.",
          "The ATM said her balance was<br>$0"
         ],
         "marker": {
          "color": "red",
          "line": {
           "color": "black",
           "width": 0.4
          },
          "size": 20,
          "symbol": "circle"
         },
         "mode": "markers",
         "name": "neg (42.0)",
         "type": "scatter",
         "x": [
          0,
          1,
          2,
          3,
          4,
          5,
          6,
          7,
          8,
          9,
          0,
          1,
          2,
          3,
          4,
          5,
          6,
          7,
          8,
          9,
          0,
          1,
          2,
          3,
          4,
          5,
          6,
          7,
          8,
          9,
          0,
          1,
          2,
          3,
          4,
          5,
          6,
          7,
          8,
          9,
          0,
          1
         ],
         "y": [
          0,
          0,
          0,
          0,
          0,
          0,
          0,
          0,
          0,
          0,
          1,
          1,
          1,
          1,
          1,
          1,
          1,
          1,
          1,
          1,
          2,
          2,
          2,
          2,
          2,
          2,
          2,
          2,
          2,
          2,
          3,
          3,
          3,
          3,
          3,
          3,
          3,
          3,
          3,
          3,
          4,
          4
         ]
        },
        {
         "hoverinfo": "text",
         "hovertext": [
          "She got more money out of the<br>ATM than she asked for.",
          "Louise realises expensive<br>clothes are a rip off and<br>decides to save her money<br>instead, apart from a small<br>treat at Primark for doing so<br>well.",
          "she had more money in her<br>account than expected",
          "The expensive store she visits<br>is having a sale and she<br>manages to find a boat load of<br>bargains.",
          "there was more money than<br>expected in the atm",
          "She decides to save her money<br>and go for a KFC instead",
          "They had a sale on.",
          "She gets more money than<br>expected"
         ],
         "marker": {
          "color": "yellowgreen",
          "line": {
           "color": "black",
           "width": 0.4
          },
          "size": 20,
          "symbol": "circle"
         },
         "mode": "markers",
         "name": "pos (8.0)",
         "type": "scatter",
         "x": [
          2,
          3,
          4,
          5,
          6,
          7,
          8,
          9
         ],
         "y": [
          4,
          4,
          4,
          4,
          4,
          4,
          4,
          4
         ]
        },
        {
         "line": {
          "color": "red"
         },
         "mode": "lines",
         "type": "scatter",
         "x": [
          -0.65,
          -0.808787238096822,
          -0.8762870634112165,
          -0.8945065286847034,
          -0.8987636884216827,
          -0.8997236106815383,
          -0.8999383027120069,
          -0.8999862321544427,
          -0.8999969279126989,
          -0.8999993145213965,
          -0.8999998470488866,
          -0.8999999658719855,
          -0.8999999923850104,
          -0.8999999983008662,
          -0.8999999996208721,
          -0.8999999999154051,
          -0.8999999999811243,
          -0.8999999999957882,
          -0.8999999999990602,
          -0.8999999999997903,
          -0.8999999999999533,
          -0.8999999999999897,
          -0.8999999999999977,
          -0.8999999999999995,
          -0.8999999999999999,
          -0.9000000000000001,
          -0.9000000000000001,
          -0.9000000000000001,
          -0.9000000000000001,
          -0.9000000000000001,
          -0.9000000000000001,
          -0.9000000000000001,
          -0.9000000000000001,
          -0.9000000000000001,
          -0.9000000000000001,
          -0.9000000000000001,
          -0.9000000000000001,
          -0.9000000000000001,
          -0.9000000000000001,
          -0.9000000000000001,
          -0.9000000000000001,
          -0.9000000000000001,
          -0.9000000000000001,
          -0.9000000000000001,
          -0.9000000000000001,
          -0.9000000000000001,
          -0.9000000000000001,
          -0.9000000000000001,
          -0.9000000000000001,
          -0.9000000000000001,
          -0.9000000000000001,
          -0.9000000000000001,
          -0.9000000000000001,
          -0.9000000000000001,
          -0.9000000000000001,
          -0.9000000000000001,
          -0.9000000000000001,
          -0.9000000000000001,
          -0.9000000000000001,
          -0.9000000000000001,
          -0.9000000000000001,
          -0.9000000000000001,
          -0.9000000000000001,
          -0.9000000000000001,
          -0.9000000000000001,
          -0.9000000000000001,
          -0.9000000000000001,
          -0.9000000000000001,
          -0.9000000000000001,
          -0.9000000000000001,
          -0.9000000000000001,
          -0.9000000000000001,
          -0.9000000000000001,
          -0.9000000000000001,
          -0.9000000000000001,
          -0.9000000000000001,
          -0.9000000000000001,
          -0.9000000000000006,
          -0.9000000000000024,
          -0.9000000000000103,
          -0.9000000000000468,
          -0.9000000000002097,
          -0.9000000000009398,
          -0.9000000000042119,
          -0.9000000000188757,
          -0.9000000000845949,
          -0.9000000003791282,
          -0.9000000016991341,
          -0.9000000076149899,
          -0.9000000341280145,
          -0.9000001529511135,
          -0.9000006854786036,
          -0.9000030720873011,
          -0.9000137678455573,
          -0.9000616972879931,
          -0.9002763893184618,
          -0.9012363115783175,
          -0.9054934713152967,
          -0.9237129365887837,
          -0.9912127619031788,
          -1.1500000000000001,
          -0.9912127619031788,
          -0.9237129365887837,
          -0.9054934713152967,
          -0.9012363115783175,
          -0.9002763893184618,
          -0.9000616972879931,
          -0.9000137678455573,
          -0.9000030720873011,
          -0.9000006854786036,
          -0.9000001529511135,
          -0.9000000341280145,
          -0.9000000076149899,
          -0.9000000016991341,
          -0.9000000003791282,
          -0.9000000000845949,
          -0.9000000000188757,
          -0.9000000000042119,
          -0.9000000000009398,
          -0.9000000000002097,
          -0.9000000000000468,
          -0.9000000000000103,
          -0.9000000000000024,
          -0.9000000000000006,
          -0.9000000000000001,
          -0.9000000000000001,
          -0.9000000000000001,
          -0.9000000000000001,
          -0.9000000000000001,
          -0.9000000000000001,
          -0.9000000000000001,
          -0.9000000000000001,
          -0.9000000000000001,
          -0.9000000000000001,
          -0.9000000000000001,
          -0.9000000000000001,
          -0.9000000000000001,
          -0.9000000000000001,
          -0.9000000000000001,
          -0.9000000000000001,
          -0.9000000000000001,
          -0.9000000000000001,
          -0.9000000000000001,
          -0.9000000000000001,
          -0.9000000000000001,
          -0.9000000000000001,
          -0.9000000000000001,
          -0.9000000000000001,
          -0.9000000000000001,
          -0.9000000000000001,
          -0.9000000000000001,
          -0.9000000000000001,
          -0.9000000000000001,
          -0.9000000000000001,
          -0.9000000000000001,
          -0.9000000000000001,
          -0.9000000000000001,
          -0.9000000000000001,
          -0.9000000000000001,
          -0.9000000000000001,
          -0.9000000000000001,
          -0.9000000000000001,
          -0.9000000000000001,
          -0.9000000000000001,
          -0.9000000000000001,
          -0.9000000000000001,
          -0.9000000000000001,
          -0.9000000000000001,
          -0.9000000000000001,
          -0.9000000000000001,
          -0.9000000000000001,
          -0.9000000000000001,
          -0.9000000000000001,
          -0.9000000000000001,
          -0.9000000000000001,
          -0.9000000000000001,
          -0.8999999999999999,
          -0.8999999999999995,
          -0.8999999999999977,
          -0.8999999999999897,
          -0.8999999999999533,
          -0.8999999999997903,
          -0.8999999999990602,
          -0.8999999999957882,
          -0.8999999999811243,
          -0.8999999999154051,
          -0.8999999996208721,
          -0.8999999983008662,
          -0.8999999923850104,
          -0.8999999658719855,
          -0.8999998470488866,
          -0.8999993145213965,
          -0.8999969279126989,
          -0.8999862321544427,
          -0.8999383027120069,
          -0.8997236106815383,
          -0.8987636884216827,
          -0.8945065286847034,
          -0.8762870634112165,
          -0.808787238096822,
          -0.65
         ],
         "y": [
          -0.5,
          -0.475,
          -0.45,
          -0.425,
          -0.4,
          -0.375,
          -0.35,
          -0.32499999999999996,
          -0.3,
          -0.275,
          -0.25,
          -0.22499999999999998,
          -0.19999999999999996,
          -0.175,
          -0.14999999999999997,
          -0.125,
          -0.09999999999999998,
          -0.07499999999999996,
          -0.04999999999999999,
          -0.024999999999999967,
          0,
          0.025000000000000022,
          0.050000000000000044,
          0.07500000000000007,
          0.10000000000000009,
          0.125,
          0.15000000000000002,
          0.17500000000000004,
          0.20000000000000007,
          0.2250000000000001,
          0.25,
          0.275,
          0.30000000000000004,
          0.32500000000000007,
          0.3500000000000001,
          0.375,
          0.4,
          0.42500000000000004,
          0.45000000000000007,
          0.4750000000000001,
          0.5,
          0.5250000000000001,
          0.55,
          0.575,
          0.6000000000000001,
          0.625,
          0.6500000000000001,
          0.675,
          0.7000000000000002,
          0.7250000000000001,
          0.75,
          0.7750000000000001,
          0.8,
          0.8250000000000002,
          0.8500000000000001,
          0.875,
          0.9000000000000001,
          0.925,
          0.9500000000000002,
          0.9750000000000001,
          1,
          1.0250000000000001,
          1.05,
          1.0750000000000002,
          1.1,
          1.125,
          1.1500000000000001,
          1.175,
          1.2000000000000002,
          1.225,
          1.25,
          1.2750000000000001,
          1.3,
          1.3250000000000002,
          1.35,
          1.375,
          1.4000000000000001,
          1.425,
          1.4500000000000002,
          1.475,
          1.5,
          1.525,
          1.5500000000000003,
          1.5750000000000002,
          1.6,
          1.625,
          1.65,
          1.6750000000000003,
          1.7000000000000002,
          1.725,
          1.75,
          1.775,
          1.8000000000000003,
          1.8250000000000002,
          1.85,
          1.875,
          1.9000000000000004,
          1.9250000000000003,
          1.9500000000000002,
          1.975,
          2,
          2.0250000000000004,
          2.0500000000000003,
          2.075,
          2.1,
          2.125,
          2.1500000000000004,
          2.1750000000000003,
          2.2,
          2.225,
          2.25,
          2.2750000000000004,
          2.3000000000000003,
          2.325,
          2.35,
          2.375,
          2.4000000000000004,
          2.4250000000000003,
          2.45,
          2.475,
          2.5,
          2.5250000000000004,
          2.5500000000000003,
          2.575,
          2.6,
          2.625,
          2.6500000000000004,
          2.6750000000000003,
          2.7,
          2.725,
          2.75,
          2.7750000000000004,
          2.8000000000000003,
          2.825,
          2.85,
          2.875,
          2.9000000000000004,
          2.9250000000000003,
          2.95,
          2.975,
          3,
          3.0250000000000004,
          3.0500000000000003,
          3.075,
          3.1,
          3.125,
          3.1500000000000004,
          3.1750000000000003,
          3.2,
          3.225,
          3.25,
          3.2750000000000004,
          3.3000000000000003,
          3.325,
          3.35,
          3.375,
          3.4000000000000004,
          3.4250000000000003,
          3.45,
          3.475,
          3.5,
          3.5250000000000004,
          3.55,
          3.575,
          3.6000000000000005,
          3.625,
          3.6500000000000004,
          3.675,
          3.7,
          3.7250000000000005,
          3.75,
          3.7750000000000004,
          3.8,
          3.825,
          3.8500000000000005,
          3.875,
          3.9000000000000004,
          3.925,
          3.95,
          3.9750000000000005,
          4,
          4.025,
          4.05,
          4.075,
          4.1000000000000005,
          4.125,
          4.15,
          4.175,
          4.2,
          4.2250000000000005,
          4.25,
          4.275,
          4.300000000000001,
          4.325,
          4.3500000000000005,
          4.375,
          4.4,
          4.425000000000001,
          4.45,
          4.4750000000000005,
          4.5
         ]
        },
        {
         "line": {
          "color": "yellowgreen"
         },
         "mode": "lines",
         "type": "scatter",
         "x": [
          9.650000000000047,
          9.80878723809703,
          9.876287063412157,
          9.894506528688915,
          9.898763688440559,
          9.899723610766133,
          9.899938303091135,
          9.899986233853577,
          9.899996935527689,
          9.899999348649411,
          9.9,
          9.900000651350588,
          9.900003064472312,
          9.900013766146424,
          9.900061696908866,
          9.900276389233866,
          9.901236311559442,
          9.905493471311084,
          9.923712936587844,
          9.991212761902968,
          10.149999999999954,
          9.991212761902968,
          9.923712936587844,
          9.905493471311084,
          9.901236311559442,
          9.900276389233866,
          9.900061696908866,
          9.900013766146424,
          9.900003064472312,
          9.900000651350588,
          9.9,
          9.899999348649411,
          9.899996935527689,
          9.899986233853577,
          9.899938303091135,
          9.899723610766133,
          9.898763688440559,
          9.894506528688915,
          9.876287063412157,
          9.80878723809703,
          9.650000000000047
         ],
         "y": [
          3.5,
          3.525,
          3.55,
          3.575,
          3.6,
          3.625,
          3.65,
          3.675,
          3.7,
          3.725,
          3.75,
          3.775,
          3.8,
          3.825,
          3.85,
          3.875,
          3.9,
          3.925,
          3.95,
          3.975,
          4,
          4.025,
          4.05,
          4.075,
          4.1,
          4.125,
          4.15,
          4.175,
          4.2,
          4.225,
          4.25,
          4.275,
          4.3,
          4.325,
          4.35,
          4.375,
          4.4,
          4.425,
          4.45,
          4.475,
          4.5
         ]
        }
       ],
       "layout": {
        "annotations": [
         {
          "font": {
           "family": "Arial",
           "size": 16
          },
          "showarrow": false,
          "text": "84%",
          "textangle": -90,
          "x": -2,
          "y": 2
         },
         {
          "font": {
           "family": "Arial",
           "size": 16
          },
          "showarrow": false,
          "text": "16%",
          "textangle": -90,
          "x": 11,
          "y": 4
         }
        ],
        "height": 225,
        "margin": {
         "b": 0,
         "l": 0,
         "r": 0,
         "t": 30
        },
        "paper_bgcolor": "rgba(255,255,255,1)",
        "plot_bgcolor": "rgba(0,0,0,0)",
        "showlegend": false,
        "template": {
         "data": {
          "bar": [
           {
            "error_x": {
             "color": "#2a3f5f"
            },
            "error_y": {
             "color": "#2a3f5f"
            },
            "marker": {
             "line": {
              "color": "#E5ECF6",
              "width": 0.5
             }
            },
            "type": "bar"
           }
          ],
          "barpolar": [
           {
            "marker": {
             "line": {
              "color": "#E5ECF6",
              "width": 0.5
             }
            },
            "type": "barpolar"
           }
          ],
          "carpet": [
           {
            "aaxis": {
             "endlinecolor": "#2a3f5f",
             "gridcolor": "white",
             "linecolor": "white",
             "minorgridcolor": "white",
             "startlinecolor": "#2a3f5f"
            },
            "baxis": {
             "endlinecolor": "#2a3f5f",
             "gridcolor": "white",
             "linecolor": "white",
             "minorgridcolor": "white",
             "startlinecolor": "#2a3f5f"
            },
            "type": "carpet"
           }
          ],
          "choropleth": [
           {
            "colorbar": {
             "outlinewidth": 0,
             "ticks": ""
            },
            "type": "choropleth"
           }
          ],
          "contour": [
           {
            "colorbar": {
             "outlinewidth": 0,
             "ticks": ""
            },
            "colorscale": [
             [
              0,
              "#0d0887"
             ],
             [
              0.1111111111111111,
              "#46039f"
             ],
             [
              0.2222222222222222,
              "#7201a8"
             ],
             [
              0.3333333333333333,
              "#9c179e"
             ],
             [
              0.4444444444444444,
              "#bd3786"
             ],
             [
              0.5555555555555556,
              "#d8576b"
             ],
             [
              0.6666666666666666,
              "#ed7953"
             ],
             [
              0.7777777777777778,
              "#fb9f3a"
             ],
             [
              0.8888888888888888,
              "#fdca26"
             ],
             [
              1,
              "#f0f921"
             ]
            ],
            "type": "contour"
           }
          ],
          "contourcarpet": [
           {
            "colorbar": {
             "outlinewidth": 0,
             "ticks": ""
            },
            "type": "contourcarpet"
           }
          ],
          "heatmap": [
           {
            "colorbar": {
             "outlinewidth": 0,
             "ticks": ""
            },
            "colorscale": [
             [
              0,
              "#0d0887"
             ],
             [
              0.1111111111111111,
              "#46039f"
             ],
             [
              0.2222222222222222,
              "#7201a8"
             ],
             [
              0.3333333333333333,
              "#9c179e"
             ],
             [
              0.4444444444444444,
              "#bd3786"
             ],
             [
              0.5555555555555556,
              "#d8576b"
             ],
             [
              0.6666666666666666,
              "#ed7953"
             ],
             [
              0.7777777777777778,
              "#fb9f3a"
             ],
             [
              0.8888888888888888,
              "#fdca26"
             ],
             [
              1,
              "#f0f921"
             ]
            ],
            "type": "heatmap"
           }
          ],
          "heatmapgl": [
           {
            "colorbar": {
             "outlinewidth": 0,
             "ticks": ""
            },
            "colorscale": [
             [
              0,
              "#0d0887"
             ],
             [
              0.1111111111111111,
              "#46039f"
             ],
             [
              0.2222222222222222,
              "#7201a8"
             ],
             [
              0.3333333333333333,
              "#9c179e"
             ],
             [
              0.4444444444444444,
              "#bd3786"
             ],
             [
              0.5555555555555556,
              "#d8576b"
             ],
             [
              0.6666666666666666,
              "#ed7953"
             ],
             [
              0.7777777777777778,
              "#fb9f3a"
             ],
             [
              0.8888888888888888,
              "#fdca26"
             ],
             [
              1,
              "#f0f921"
             ]
            ],
            "type": "heatmapgl"
           }
          ],
          "histogram": [
           {
            "marker": {
             "colorbar": {
              "outlinewidth": 0,
              "ticks": ""
             }
            },
            "type": "histogram"
           }
          ],
          "histogram2d": [
           {
            "colorbar": {
             "outlinewidth": 0,
             "ticks": ""
            },
            "colorscale": [
             [
              0,
              "#0d0887"
             ],
             [
              0.1111111111111111,
              "#46039f"
             ],
             [
              0.2222222222222222,
              "#7201a8"
             ],
             [
              0.3333333333333333,
              "#9c179e"
             ],
             [
              0.4444444444444444,
              "#bd3786"
             ],
             [
              0.5555555555555556,
              "#d8576b"
             ],
             [
              0.6666666666666666,
              "#ed7953"
             ],
             [
              0.7777777777777778,
              "#fb9f3a"
             ],
             [
              0.8888888888888888,
              "#fdca26"
             ],
             [
              1,
              "#f0f921"
             ]
            ],
            "type": "histogram2d"
           }
          ],
          "histogram2dcontour": [
           {
            "colorbar": {
             "outlinewidth": 0,
             "ticks": ""
            },
            "colorscale": [
             [
              0,
              "#0d0887"
             ],
             [
              0.1111111111111111,
              "#46039f"
             ],
             [
              0.2222222222222222,
              "#7201a8"
             ],
             [
              0.3333333333333333,
              "#9c179e"
             ],
             [
              0.4444444444444444,
              "#bd3786"
             ],
             [
              0.5555555555555556,
              "#d8576b"
             ],
             [
              0.6666666666666666,
              "#ed7953"
             ],
             [
              0.7777777777777778,
              "#fb9f3a"
             ],
             [
              0.8888888888888888,
              "#fdca26"
             ],
             [
              1,
              "#f0f921"
             ]
            ],
            "type": "histogram2dcontour"
           }
          ],
          "mesh3d": [
           {
            "colorbar": {
             "outlinewidth": 0,
             "ticks": ""
            },
            "type": "mesh3d"
           }
          ],
          "parcoords": [
           {
            "line": {
             "colorbar": {
              "outlinewidth": 0,
              "ticks": ""
             }
            },
            "type": "parcoords"
           }
          ],
          "pie": [
           {
            "automargin": true,
            "type": "pie"
           }
          ],
          "scatter": [
           {
            "marker": {
             "colorbar": {
              "outlinewidth": 0,
              "ticks": ""
             }
            },
            "type": "scatter"
           }
          ],
          "scatter3d": [
           {
            "line": {
             "colorbar": {
              "outlinewidth": 0,
              "ticks": ""
             }
            },
            "marker": {
             "colorbar": {
              "outlinewidth": 0,
              "ticks": ""
             }
            },
            "type": "scatter3d"
           }
          ],
          "scattercarpet": [
           {
            "marker": {
             "colorbar": {
              "outlinewidth": 0,
              "ticks": ""
             }
            },
            "type": "scattercarpet"
           }
          ],
          "scattergeo": [
           {
            "marker": {
             "colorbar": {
              "outlinewidth": 0,
              "ticks": ""
             }
            },
            "type": "scattergeo"
           }
          ],
          "scattergl": [
           {
            "marker": {
             "colorbar": {
              "outlinewidth": 0,
              "ticks": ""
             }
            },
            "type": "scattergl"
           }
          ],
          "scattermapbox": [
           {
            "marker": {
             "colorbar": {
              "outlinewidth": 0,
              "ticks": ""
             }
            },
            "type": "scattermapbox"
           }
          ],
          "scatterpolar": [
           {
            "marker": {
             "colorbar": {
              "outlinewidth": 0,
              "ticks": ""
             }
            },
            "type": "scatterpolar"
           }
          ],
          "scatterpolargl": [
           {
            "marker": {
             "colorbar": {
              "outlinewidth": 0,
              "ticks": ""
             }
            },
            "type": "scatterpolargl"
           }
          ],
          "scatterternary": [
           {
            "marker": {
             "colorbar": {
              "outlinewidth": 0,
              "ticks": ""
             }
            },
            "type": "scatterternary"
           }
          ],
          "surface": [
           {
            "colorbar": {
             "outlinewidth": 0,
             "ticks": ""
            },
            "colorscale": [
             [
              0,
              "#0d0887"
             ],
             [
              0.1111111111111111,
              "#46039f"
             ],
             [
              0.2222222222222222,
              "#7201a8"
             ],
             [
              0.3333333333333333,
              "#9c179e"
             ],
             [
              0.4444444444444444,
              "#bd3786"
             ],
             [
              0.5555555555555556,
              "#d8576b"
             ],
             [
              0.6666666666666666,
              "#ed7953"
             ],
             [
              0.7777777777777778,
              "#fb9f3a"
             ],
             [
              0.8888888888888888,
              "#fdca26"
             ],
             [
              1,
              "#f0f921"
             ]
            ],
            "type": "surface"
           }
          ],
          "table": [
           {
            "cells": {
             "fill": {
              "color": "#EBF0F8"
             },
             "line": {
              "color": "white"
             }
            },
            "header": {
             "fill": {
              "color": "#C8D4E3"
             },
             "line": {
              "color": "white"
             }
            },
            "type": "table"
           }
          ]
         },
         "layout": {
          "annotationdefaults": {
           "arrowcolor": "#2a3f5f",
           "arrowhead": 0,
           "arrowwidth": 1
          },
          "autotypenumbers": "strict",
          "coloraxis": {
           "colorbar": {
            "outlinewidth": 0,
            "ticks": ""
           }
          },
          "colorscale": {
           "diverging": [
            [
             0,
             "#8e0152"
            ],
            [
             0.1,
             "#c51b7d"
            ],
            [
             0.2,
             "#de77ae"
            ],
            [
             0.3,
             "#f1b6da"
            ],
            [
             0.4,
             "#fde0ef"
            ],
            [
             0.5,
             "#f7f7f7"
            ],
            [
             0.6,
             "#e6f5d0"
            ],
            [
             0.7,
             "#b8e186"
            ],
            [
             0.8,
             "#7fbc41"
            ],
            [
             0.9,
             "#4d9221"
            ],
            [
             1,
             "#276419"
            ]
           ],
           "sequential": [
            [
             0,
             "#0d0887"
            ],
            [
             0.1111111111111111,
             "#46039f"
            ],
            [
             0.2222222222222222,
             "#7201a8"
            ],
            [
             0.3333333333333333,
             "#9c179e"
            ],
            [
             0.4444444444444444,
             "#bd3786"
            ],
            [
             0.5555555555555556,
             "#d8576b"
            ],
            [
             0.6666666666666666,
             "#ed7953"
            ],
            [
             0.7777777777777778,
             "#fb9f3a"
            ],
            [
             0.8888888888888888,
             "#fdca26"
            ],
            [
             1,
             "#f0f921"
            ]
           ],
           "sequentialminus": [
            [
             0,
             "#0d0887"
            ],
            [
             0.1111111111111111,
             "#46039f"
            ],
            [
             0.2222222222222222,
             "#7201a8"
            ],
            [
             0.3333333333333333,
             "#9c179e"
            ],
            [
             0.4444444444444444,
             "#bd3786"
            ],
            [
             0.5555555555555556,
             "#d8576b"
            ],
            [
             0.6666666666666666,
             "#ed7953"
            ],
            [
             0.7777777777777778,
             "#fb9f3a"
            ],
            [
             0.8888888888888888,
             "#fdca26"
            ],
            [
             1,
             "#f0f921"
            ]
           ]
          },
          "colorway": [
           "#636efa",
           "#EF553B",
           "#00cc96",
           "#ab63fa",
           "#FFA15A",
           "#19d3f3",
           "#FF6692",
           "#B6E880",
           "#FF97FF",
           "#FECB52"
          ],
          "font": {
           "color": "#2a3f5f"
          },
          "geo": {
           "bgcolor": "white",
           "lakecolor": "white",
           "landcolor": "#E5ECF6",
           "showlakes": true,
           "showland": true,
           "subunitcolor": "white"
          },
          "hoverlabel": {
           "align": "left"
          },
          "hovermode": "closest",
          "mapbox": {
           "style": "light"
          },
          "paper_bgcolor": "white",
          "plot_bgcolor": "#E5ECF6",
          "polar": {
           "angularaxis": {
            "gridcolor": "white",
            "linecolor": "white",
            "ticks": ""
           },
           "bgcolor": "#E5ECF6",
           "radialaxis": {
            "gridcolor": "white",
            "linecolor": "white",
            "ticks": ""
           }
          },
          "scene": {
           "xaxis": {
            "backgroundcolor": "#E5ECF6",
            "gridcolor": "white",
            "gridwidth": 2,
            "linecolor": "white",
            "showbackground": true,
            "ticks": "",
            "zerolinecolor": "white"
           },
           "yaxis": {
            "backgroundcolor": "#E5ECF6",
            "gridcolor": "white",
            "gridwidth": 2,
            "linecolor": "white",
            "showbackground": true,
            "ticks": "",
            "zerolinecolor": "white"
           },
           "zaxis": {
            "backgroundcolor": "#E5ECF6",
            "gridcolor": "white",
            "gridwidth": 2,
            "linecolor": "white",
            "showbackground": true,
            "ticks": "",
            "zerolinecolor": "white"
           }
          },
          "shapedefaults": {
           "line": {
            "color": "#2a3f5f"
           }
          },
          "ternary": {
           "aaxis": {
            "gridcolor": "white",
            "linecolor": "white",
            "ticks": ""
           },
           "baxis": {
            "gridcolor": "white",
            "linecolor": "white",
            "ticks": ""
           },
           "bgcolor": "#E5ECF6",
           "caxis": {
            "gridcolor": "white",
            "linecolor": "white",
            "ticks": ""
           }
          },
          "title": {
           "x": 0.05
          },
          "xaxis": {
           "automargin": true,
           "gridcolor": "white",
           "linecolor": "white",
           "ticks": "",
           "title": {
            "standoff": 15
           },
           "zerolinecolor": "white",
           "zerolinewidth": 2
          },
          "yaxis": {
           "automargin": true,
           "gridcolor": "white",
           "linecolor": "white",
           "ticks": "",
           "title": {
            "standoff": 15
           },
           "zerolinecolor": "white",
           "zerolinewidth": 2
          }
         }
        },
        "title": {
         "text": ""
        },
        "width": 350,
        "xaxis": {
         "scaleanchor": "y",
         "scaleratio": 1,
         "showgrid": false,
         "showline": false,
         "showticklabels": false,
         "visible": false,
         "zeroline": false
        },
        "yaxis": {
         "constrain": "domain",
         "range": [
          -1,
          6
         ],
         "showgrid": false,
         "showline": false,
         "showticklabels": false,
         "visible": false,
         "zeroline": false
        }
       }
      },
      "text/html": [
       "<div>                            <div id=\"debadbb5-ae80-439a-afd3-026eed1de347\" class=\"plotly-graph-div\" style=\"height:225.0px; width:350px;\"></div>            <script type=\"text/javascript\">                require([\"plotly\"], function(Plotly) {                    window.PLOTLYENV=window.PLOTLYENV || {};                                    if (document.getElementById(\"debadbb5-ae80-439a-afd3-026eed1de347\")) {                    Plotly.newPlot(                        \"debadbb5-ae80-439a-afd3-026eed1de347\",                        [{\"hoverinfo\": \"text\", \"hovertext\": [\"The money has not been paid.\", \"Louise is mugged at the ATM\", \"Her credit card disappears in<br>the ATM machine\", \"Some one robs her\", \"Instead if euros the ATM spits<br>out dollars\", \"The money blows away\", \"she goes to draw money from<br>the ATM and has no money\", \"The ATM swallows her card.\", \"The ATM ate her card.\", \"The store is closed when she<br>gets there\", \"She gets robbed\", \"she had less money in her<br>account than expected\", \"The ATM swallows her card and<br>she is unable to take out the<br>money\", \"Upon withdrawing money from<br>the ATM she finds she has no<br>money left in her account the<br>rest of her money has<br>disappeared and she has to<br>contact her bank.\", \"She gets mugged on the way to<br>the store and all her money is<br>stolen. She will never own a<br>Gucci bag now. It's very sad.\", \"She went into the shop and<br>tried to purchase those<br>ridiculous baggy short<br>trousers that are all the rage<br>among hipsters these days.<br>However, upon arriving at the<br>counter to pay, she was<br>intercepted by the Gardai and<br>arrested for crimes against<br>common decency and spent the<br>next 15 years in Portlaoise<br>prison being flogged 5 times a<br>day with a pair of 1970s<br>original Levi Strauss flares.\", \"Gets mugged\", \"Louise goes to the expensive<br>clothes shop and she spends a<br>lot of time looking around but<br>doesn't actually buy anything<br>because there is nothing she<br>likes.\", \"She can't find anything she<br>wants to buy.\", \"She spends it all\", \"An unexpected bill has been<br>taken out of her account and<br>her balance is much lower than<br>she thought it would be.\", \"She gets mugged and they take<br>all her money\", \"She has less money in her bank<br>account than she thought\", \"The ATM is actually a<br>transformer and shoots her\", \"She loses the money\", \"It did not issue her her<br>money.\", \"There is not enough money in<br>her account.\", \"She spent all of her pay raise<br>at the expensive clothing<br>stores.\", \"Her paycheck hadn't been<br>adjusted for her pay raise\", \"The machine doesnt give her<br>the right money\", \"She withdrew false currency.\", \"She does not buy anything from<br>this shop.\", \"There was not enough money in<br>her account to withdraw\", \"the shop doesnt take cash\", \"Her balance was zero at the<br>ATM\", \"She forgets her bank card in<br>the ATM.\", \"the store is closed\", \"Her handbag was stolen\", \"the shop is closed\", \"The atm didn't work\", \"Her pay rise doesn't register<br>on her account.\", \"The ATM said her balance was<br>$0\"], \"marker\": {\"color\": \"red\", \"line\": {\"color\": \"black\", \"width\": 0.4}, \"size\": 20, \"symbol\": \"circle\"}, \"mode\": \"markers\", \"name\": \"neg (42.0)\", \"type\": \"scatter\", \"x\": [0, 1, 2, 3, 4, 5, 6, 7, 8, 9, 0, 1, 2, 3, 4, 5, 6, 7, 8, 9, 0, 1, 2, 3, 4, 5, 6, 7, 8, 9, 0, 1, 2, 3, 4, 5, 6, 7, 8, 9, 0, 1], \"y\": [0, 0, 0, 0, 0, 0, 0, 0, 0, 0, 1, 1, 1, 1, 1, 1, 1, 1, 1, 1, 2, 2, 2, 2, 2, 2, 2, 2, 2, 2, 3, 3, 3, 3, 3, 3, 3, 3, 3, 3, 4, 4]}, {\"hoverinfo\": \"text\", \"hovertext\": [\"She got more money out of the<br>ATM than she asked for.\", \"Louise realises expensive<br>clothes are a rip off and<br>decides to save her money<br>instead, apart from a small<br>treat at Primark for doing so<br>well.\", \"she had more money in her<br>account than expected\", \"The expensive store she visits<br>is having a sale and she<br>manages to find a boat load of<br>bargains.\", \"there was more money than<br>expected in the atm\", \"She decides to save her money<br>and go for a KFC instead\", \"They had a sale on.\", \"She gets more money than<br>expected\"], \"marker\": {\"color\": \"yellowgreen\", \"line\": {\"color\": \"black\", \"width\": 0.4}, \"size\": 20, \"symbol\": \"circle\"}, \"mode\": \"markers\", \"name\": \"pos (8.0)\", \"type\": \"scatter\", \"x\": [2, 3, 4, 5, 6, 7, 8, 9], \"y\": [4, 4, 4, 4, 4, 4, 4, 4]}, {\"line\": {\"color\": \"red\"}, \"mode\": \"lines\", \"type\": \"scatter\", \"x\": [-0.65, -0.808787238096822, -0.8762870634112165, -0.8945065286847034, -0.8987636884216827, -0.8997236106815383, -0.8999383027120069, -0.8999862321544427, -0.8999969279126989, -0.8999993145213965, -0.8999998470488866, -0.8999999658719855, -0.8999999923850104, -0.8999999983008662, -0.8999999996208721, -0.8999999999154051, -0.8999999999811243, -0.8999999999957882, -0.8999999999990602, -0.8999999999997903, -0.8999999999999533, -0.8999999999999897, -0.8999999999999977, -0.8999999999999995, -0.8999999999999999, -0.9000000000000001, -0.9000000000000001, -0.9000000000000001, -0.9000000000000001, -0.9000000000000001, -0.9000000000000001, -0.9000000000000001, -0.9000000000000001, -0.9000000000000001, -0.9000000000000001, -0.9000000000000001, -0.9000000000000001, -0.9000000000000001, -0.9000000000000001, -0.9000000000000001, -0.9000000000000001, -0.9000000000000001, -0.9000000000000001, -0.9000000000000001, -0.9000000000000001, -0.9000000000000001, -0.9000000000000001, -0.9000000000000001, -0.9000000000000001, -0.9000000000000001, -0.9000000000000001, -0.9000000000000001, -0.9000000000000001, -0.9000000000000001, -0.9000000000000001, -0.9000000000000001, -0.9000000000000001, -0.9000000000000001, -0.9000000000000001, -0.9000000000000001, -0.9000000000000001, -0.9000000000000001, -0.9000000000000001, -0.9000000000000001, -0.9000000000000001, -0.9000000000000001, -0.9000000000000001, -0.9000000000000001, -0.9000000000000001, -0.9000000000000001, -0.9000000000000001, -0.9000000000000001, -0.9000000000000001, -0.9000000000000001, -0.9000000000000001, -0.9000000000000001, -0.9000000000000001, -0.9000000000000006, -0.9000000000000024, -0.9000000000000103, -0.9000000000000468, -0.9000000000002097, -0.9000000000009398, -0.9000000000042119, -0.9000000000188757, -0.9000000000845949, -0.9000000003791282, -0.9000000016991341, -0.9000000076149899, -0.9000000341280145, -0.9000001529511135, -0.9000006854786036, -0.9000030720873011, -0.9000137678455573, -0.9000616972879931, -0.9002763893184618, -0.9012363115783175, -0.9054934713152967, -0.9237129365887837, -0.9912127619031788, -1.1500000000000001, -0.9912127619031788, -0.9237129365887837, -0.9054934713152967, -0.9012363115783175, -0.9002763893184618, -0.9000616972879931, -0.9000137678455573, -0.9000030720873011, -0.9000006854786036, -0.9000001529511135, -0.9000000341280145, -0.9000000076149899, -0.9000000016991341, -0.9000000003791282, -0.9000000000845949, -0.9000000000188757, -0.9000000000042119, -0.9000000000009398, -0.9000000000002097, -0.9000000000000468, -0.9000000000000103, -0.9000000000000024, -0.9000000000000006, -0.9000000000000001, -0.9000000000000001, -0.9000000000000001, -0.9000000000000001, -0.9000000000000001, -0.9000000000000001, -0.9000000000000001, -0.9000000000000001, -0.9000000000000001, -0.9000000000000001, -0.9000000000000001, -0.9000000000000001, -0.9000000000000001, -0.9000000000000001, -0.9000000000000001, -0.9000000000000001, -0.9000000000000001, -0.9000000000000001, -0.9000000000000001, -0.9000000000000001, -0.9000000000000001, -0.9000000000000001, -0.9000000000000001, -0.9000000000000001, -0.9000000000000001, -0.9000000000000001, -0.9000000000000001, -0.9000000000000001, -0.9000000000000001, -0.9000000000000001, -0.9000000000000001, -0.9000000000000001, -0.9000000000000001, -0.9000000000000001, -0.9000000000000001, -0.9000000000000001, -0.9000000000000001, -0.9000000000000001, -0.9000000000000001, -0.9000000000000001, -0.9000000000000001, -0.9000000000000001, -0.9000000000000001, -0.9000000000000001, -0.9000000000000001, -0.9000000000000001, -0.9000000000000001, -0.9000000000000001, -0.9000000000000001, -0.9000000000000001, -0.9000000000000001, -0.9000000000000001, -0.8999999999999999, -0.8999999999999995, -0.8999999999999977, -0.8999999999999897, -0.8999999999999533, -0.8999999999997903, -0.8999999999990602, -0.8999999999957882, -0.8999999999811243, -0.8999999999154051, -0.8999999996208721, -0.8999999983008662, -0.8999999923850104, -0.8999999658719855, -0.8999998470488866, -0.8999993145213965, -0.8999969279126989, -0.8999862321544427, -0.8999383027120069, -0.8997236106815383, -0.8987636884216827, -0.8945065286847034, -0.8762870634112165, -0.808787238096822, -0.65], \"y\": [-0.5, -0.475, -0.45, -0.425, -0.4, -0.375, -0.35, -0.32499999999999996, -0.3, -0.275, -0.25, -0.22499999999999998, -0.19999999999999996, -0.175, -0.14999999999999997, -0.125, -0.09999999999999998, -0.07499999999999996, -0.04999999999999999, -0.024999999999999967, 0.0, 0.025000000000000022, 0.050000000000000044, 0.07500000000000007, 0.10000000000000009, 0.125, 0.15000000000000002, 0.17500000000000004, 0.20000000000000007, 0.2250000000000001, 0.25, 0.275, 0.30000000000000004, 0.32500000000000007, 0.3500000000000001, 0.375, 0.4, 0.42500000000000004, 0.45000000000000007, 0.4750000000000001, 0.5, 0.5250000000000001, 0.55, 0.575, 0.6000000000000001, 0.625, 0.6500000000000001, 0.675, 0.7000000000000002, 0.7250000000000001, 0.75, 0.7750000000000001, 0.8, 0.8250000000000002, 0.8500000000000001, 0.875, 0.9000000000000001, 0.925, 0.9500000000000002, 0.9750000000000001, 1.0, 1.0250000000000001, 1.05, 1.0750000000000002, 1.1, 1.125, 1.1500000000000001, 1.175, 1.2000000000000002, 1.225, 1.25, 1.2750000000000001, 1.3, 1.3250000000000002, 1.35, 1.375, 1.4000000000000001, 1.425, 1.4500000000000002, 1.475, 1.5, 1.525, 1.5500000000000003, 1.5750000000000002, 1.6, 1.625, 1.65, 1.6750000000000003, 1.7000000000000002, 1.725, 1.75, 1.775, 1.8000000000000003, 1.8250000000000002, 1.85, 1.875, 1.9000000000000004, 1.9250000000000003, 1.9500000000000002, 1.975, 2.0, 2.0250000000000004, 2.0500000000000003, 2.075, 2.1, 2.125, 2.1500000000000004, 2.1750000000000003, 2.2, 2.225, 2.25, 2.2750000000000004, 2.3000000000000003, 2.325, 2.35, 2.375, 2.4000000000000004, 2.4250000000000003, 2.45, 2.475, 2.5, 2.5250000000000004, 2.5500000000000003, 2.575, 2.6, 2.625, 2.6500000000000004, 2.6750000000000003, 2.7, 2.725, 2.75, 2.7750000000000004, 2.8000000000000003, 2.825, 2.85, 2.875, 2.9000000000000004, 2.9250000000000003, 2.95, 2.975, 3.0, 3.0250000000000004, 3.0500000000000003, 3.075, 3.1, 3.125, 3.1500000000000004, 3.1750000000000003, 3.2, 3.225, 3.25, 3.2750000000000004, 3.3000000000000003, 3.325, 3.35, 3.375, 3.4000000000000004, 3.4250000000000003, 3.45, 3.475, 3.5, 3.5250000000000004, 3.55, 3.575, 3.6000000000000005, 3.625, 3.6500000000000004, 3.675, 3.7, 3.7250000000000005, 3.75, 3.7750000000000004, 3.8, 3.825, 3.8500000000000005, 3.875, 3.9000000000000004, 3.925, 3.95, 3.9750000000000005, 4.0, 4.025, 4.05, 4.075, 4.1000000000000005, 4.125, 4.15, 4.175, 4.2, 4.2250000000000005, 4.25, 4.275, 4.300000000000001, 4.325, 4.3500000000000005, 4.375, 4.4, 4.425000000000001, 4.45, 4.4750000000000005, 4.5]}, {\"line\": {\"color\": \"yellowgreen\"}, \"mode\": \"lines\", \"type\": \"scatter\", \"x\": [9.650000000000047, 9.80878723809703, 9.876287063412157, 9.894506528688915, 9.898763688440559, 9.899723610766133, 9.899938303091135, 9.899986233853577, 9.899996935527689, 9.899999348649411, 9.9, 9.900000651350588, 9.900003064472312, 9.900013766146424, 9.900061696908866, 9.900276389233866, 9.901236311559442, 9.905493471311084, 9.923712936587844, 9.991212761902968, 10.149999999999954, 9.991212761902968, 9.923712936587844, 9.905493471311084, 9.901236311559442, 9.900276389233866, 9.900061696908866, 9.900013766146424, 9.900003064472312, 9.900000651350588, 9.9, 9.899999348649411, 9.899996935527689, 9.899986233853577, 9.899938303091135, 9.899723610766133, 9.898763688440559, 9.894506528688915, 9.876287063412157, 9.80878723809703, 9.650000000000047], \"y\": [3.5, 3.525, 3.55, 3.575, 3.6, 3.625, 3.65, 3.675, 3.7, 3.725, 3.75, 3.775, 3.8, 3.825, 3.85, 3.875, 3.9, 3.925, 3.95, 3.975, 4.0, 4.025, 4.05, 4.075, 4.1, 4.125, 4.15, 4.175, 4.2, 4.225, 4.25, 4.275, 4.3, 4.325, 4.35, 4.375, 4.4, 4.425, 4.45, 4.475, 4.5]}],                        {\"annotations\": [{\"font\": {\"family\": \"Arial\", \"size\": 16}, \"showarrow\": false, \"text\": \"84%\", \"textangle\": -90, \"x\": -2, \"y\": 2.0}, {\"font\": {\"family\": \"Arial\", \"size\": 16}, \"showarrow\": false, \"text\": \"16%\", \"textangle\": -90, \"x\": 11, \"y\": 4.0}], \"height\": 225.0, \"margin\": {\"b\": 0, \"l\": 0, \"r\": 0, \"t\": 30}, \"paper_bgcolor\": \"rgba(255,255,255,1)\", \"plot_bgcolor\": \"rgba(0,0,0,0)\", \"showlegend\": false, \"template\": {\"data\": {\"bar\": [{\"error_x\": {\"color\": \"#2a3f5f\"}, \"error_y\": {\"color\": \"#2a3f5f\"}, \"marker\": {\"line\": {\"color\": \"#E5ECF6\", \"width\": 0.5}}, \"type\": \"bar\"}], \"barpolar\": [{\"marker\": {\"line\": {\"color\": \"#E5ECF6\", \"width\": 0.5}}, \"type\": \"barpolar\"}], \"carpet\": [{\"aaxis\": {\"endlinecolor\": \"#2a3f5f\", \"gridcolor\": \"white\", \"linecolor\": \"white\", \"minorgridcolor\": \"white\", \"startlinecolor\": \"#2a3f5f\"}, \"baxis\": {\"endlinecolor\": \"#2a3f5f\", \"gridcolor\": \"white\", \"linecolor\": \"white\", \"minorgridcolor\": \"white\", \"startlinecolor\": \"#2a3f5f\"}, \"type\": \"carpet\"}], \"choropleth\": [{\"colorbar\": {\"outlinewidth\": 0, \"ticks\": \"\"}, \"type\": \"choropleth\"}], \"contour\": [{\"colorbar\": {\"outlinewidth\": 0, \"ticks\": \"\"}, \"colorscale\": [[0.0, \"#0d0887\"], [0.1111111111111111, \"#46039f\"], [0.2222222222222222, \"#7201a8\"], [0.3333333333333333, \"#9c179e\"], [0.4444444444444444, \"#bd3786\"], [0.5555555555555556, \"#d8576b\"], [0.6666666666666666, \"#ed7953\"], [0.7777777777777778, \"#fb9f3a\"], [0.8888888888888888, \"#fdca26\"], [1.0, \"#f0f921\"]], \"type\": \"contour\"}], \"contourcarpet\": [{\"colorbar\": {\"outlinewidth\": 0, \"ticks\": \"\"}, \"type\": \"contourcarpet\"}], \"heatmap\": [{\"colorbar\": {\"outlinewidth\": 0, \"ticks\": \"\"}, \"colorscale\": [[0.0, \"#0d0887\"], [0.1111111111111111, \"#46039f\"], [0.2222222222222222, \"#7201a8\"], [0.3333333333333333, \"#9c179e\"], [0.4444444444444444, \"#bd3786\"], [0.5555555555555556, \"#d8576b\"], [0.6666666666666666, \"#ed7953\"], [0.7777777777777778, \"#fb9f3a\"], [0.8888888888888888, \"#fdca26\"], [1.0, \"#f0f921\"]], \"type\": \"heatmap\"}], \"heatmapgl\": [{\"colorbar\": {\"outlinewidth\": 0, \"ticks\": \"\"}, \"colorscale\": [[0.0, \"#0d0887\"], [0.1111111111111111, \"#46039f\"], [0.2222222222222222, \"#7201a8\"], [0.3333333333333333, \"#9c179e\"], [0.4444444444444444, \"#bd3786\"], [0.5555555555555556, \"#d8576b\"], [0.6666666666666666, \"#ed7953\"], [0.7777777777777778, \"#fb9f3a\"], [0.8888888888888888, \"#fdca26\"], [1.0, \"#f0f921\"]], \"type\": \"heatmapgl\"}], \"histogram\": [{\"marker\": {\"colorbar\": {\"outlinewidth\": 0, \"ticks\": \"\"}}, \"type\": \"histogram\"}], \"histogram2d\": [{\"colorbar\": {\"outlinewidth\": 0, \"ticks\": \"\"}, \"colorscale\": [[0.0, \"#0d0887\"], [0.1111111111111111, \"#46039f\"], [0.2222222222222222, \"#7201a8\"], [0.3333333333333333, \"#9c179e\"], [0.4444444444444444, \"#bd3786\"], [0.5555555555555556, \"#d8576b\"], [0.6666666666666666, \"#ed7953\"], [0.7777777777777778, \"#fb9f3a\"], [0.8888888888888888, \"#fdca26\"], [1.0, \"#f0f921\"]], \"type\": \"histogram2d\"}], \"histogram2dcontour\": [{\"colorbar\": {\"outlinewidth\": 0, \"ticks\": \"\"}, \"colorscale\": [[0.0, \"#0d0887\"], [0.1111111111111111, \"#46039f\"], [0.2222222222222222, \"#7201a8\"], [0.3333333333333333, \"#9c179e\"], [0.4444444444444444, \"#bd3786\"], [0.5555555555555556, \"#d8576b\"], [0.6666666666666666, \"#ed7953\"], [0.7777777777777778, \"#fb9f3a\"], [0.8888888888888888, \"#fdca26\"], [1.0, \"#f0f921\"]], \"type\": \"histogram2dcontour\"}], \"mesh3d\": [{\"colorbar\": {\"outlinewidth\": 0, \"ticks\": \"\"}, \"type\": \"mesh3d\"}], \"parcoords\": [{\"line\": {\"colorbar\": {\"outlinewidth\": 0, \"ticks\": \"\"}}, \"type\": \"parcoords\"}], \"pie\": [{\"automargin\": true, \"type\": \"pie\"}], \"scatter\": [{\"marker\": {\"colorbar\": {\"outlinewidth\": 0, \"ticks\": \"\"}}, \"type\": \"scatter\"}], \"scatter3d\": [{\"line\": {\"colorbar\": {\"outlinewidth\": 0, \"ticks\": \"\"}}, \"marker\": {\"colorbar\": {\"outlinewidth\": 0, \"ticks\": \"\"}}, \"type\": \"scatter3d\"}], \"scattercarpet\": [{\"marker\": {\"colorbar\": {\"outlinewidth\": 0, \"ticks\": \"\"}}, \"type\": \"scattercarpet\"}], \"scattergeo\": [{\"marker\": {\"colorbar\": {\"outlinewidth\": 0, \"ticks\": \"\"}}, \"type\": \"scattergeo\"}], \"scattergl\": [{\"marker\": {\"colorbar\": {\"outlinewidth\": 0, \"ticks\": \"\"}}, \"type\": \"scattergl\"}], \"scattermapbox\": [{\"marker\": {\"colorbar\": {\"outlinewidth\": 0, \"ticks\": \"\"}}, \"type\": \"scattermapbox\"}], \"scatterpolar\": [{\"marker\": {\"colorbar\": {\"outlinewidth\": 0, \"ticks\": \"\"}}, \"type\": \"scatterpolar\"}], \"scatterpolargl\": [{\"marker\": {\"colorbar\": {\"outlinewidth\": 0, \"ticks\": \"\"}}, \"type\": \"scatterpolargl\"}], \"scatterternary\": [{\"marker\": {\"colorbar\": {\"outlinewidth\": 0, \"ticks\": \"\"}}, \"type\": \"scatterternary\"}], \"surface\": [{\"colorbar\": {\"outlinewidth\": 0, \"ticks\": \"\"}, \"colorscale\": [[0.0, \"#0d0887\"], [0.1111111111111111, \"#46039f\"], [0.2222222222222222, \"#7201a8\"], [0.3333333333333333, \"#9c179e\"], [0.4444444444444444, \"#bd3786\"], [0.5555555555555556, \"#d8576b\"], [0.6666666666666666, \"#ed7953\"], [0.7777777777777778, \"#fb9f3a\"], [0.8888888888888888, \"#fdca26\"], [1.0, \"#f0f921\"]], \"type\": \"surface\"}], \"table\": [{\"cells\": {\"fill\": {\"color\": \"#EBF0F8\"}, \"line\": {\"color\": \"white\"}}, \"header\": {\"fill\": {\"color\": \"#C8D4E3\"}, \"line\": {\"color\": \"white\"}}, \"type\": \"table\"}]}, \"layout\": {\"annotationdefaults\": {\"arrowcolor\": \"#2a3f5f\", \"arrowhead\": 0, \"arrowwidth\": 1}, \"autotypenumbers\": \"strict\", \"coloraxis\": {\"colorbar\": {\"outlinewidth\": 0, \"ticks\": \"\"}}, \"colorscale\": {\"diverging\": [[0, \"#8e0152\"], [0.1, \"#c51b7d\"], [0.2, \"#de77ae\"], [0.3, \"#f1b6da\"], [0.4, \"#fde0ef\"], [0.5, \"#f7f7f7\"], [0.6, \"#e6f5d0\"], [0.7, \"#b8e186\"], [0.8, \"#7fbc41\"], [0.9, \"#4d9221\"], [1, \"#276419\"]], \"sequential\": [[0.0, \"#0d0887\"], [0.1111111111111111, \"#46039f\"], [0.2222222222222222, \"#7201a8\"], [0.3333333333333333, \"#9c179e\"], [0.4444444444444444, \"#bd3786\"], [0.5555555555555556, \"#d8576b\"], [0.6666666666666666, \"#ed7953\"], [0.7777777777777778, \"#fb9f3a\"], [0.8888888888888888, \"#fdca26\"], [1.0, \"#f0f921\"]], \"sequentialminus\": [[0.0, \"#0d0887\"], [0.1111111111111111, \"#46039f\"], [0.2222222222222222, \"#7201a8\"], [0.3333333333333333, \"#9c179e\"], [0.4444444444444444, \"#bd3786\"], [0.5555555555555556, \"#d8576b\"], [0.6666666666666666, \"#ed7953\"], [0.7777777777777778, \"#fb9f3a\"], [0.8888888888888888, \"#fdca26\"], [1.0, \"#f0f921\"]]}, \"colorway\": [\"#636efa\", \"#EF553B\", \"#00cc96\", \"#ab63fa\", \"#FFA15A\", \"#19d3f3\", \"#FF6692\", \"#B6E880\", \"#FF97FF\", \"#FECB52\"], \"font\": {\"color\": \"#2a3f5f\"}, \"geo\": {\"bgcolor\": \"white\", \"lakecolor\": \"white\", \"landcolor\": \"#E5ECF6\", \"showlakes\": true, \"showland\": true, \"subunitcolor\": \"white\"}, \"hoverlabel\": {\"align\": \"left\"}, \"hovermode\": \"closest\", \"mapbox\": {\"style\": \"light\"}, \"paper_bgcolor\": \"white\", \"plot_bgcolor\": \"#E5ECF6\", \"polar\": {\"angularaxis\": {\"gridcolor\": \"white\", \"linecolor\": \"white\", \"ticks\": \"\"}, \"bgcolor\": \"#E5ECF6\", \"radialaxis\": {\"gridcolor\": \"white\", \"linecolor\": \"white\", \"ticks\": \"\"}}, \"scene\": {\"xaxis\": {\"backgroundcolor\": \"#E5ECF6\", \"gridcolor\": \"white\", \"gridwidth\": 2, \"linecolor\": \"white\", \"showbackground\": true, \"ticks\": \"\", \"zerolinecolor\": \"white\"}, \"yaxis\": {\"backgroundcolor\": \"#E5ECF6\", \"gridcolor\": \"white\", \"gridwidth\": 2, \"linecolor\": \"white\", \"showbackground\": true, \"ticks\": \"\", \"zerolinecolor\": \"white\"}, \"zaxis\": {\"backgroundcolor\": \"#E5ECF6\", \"gridcolor\": \"white\", \"gridwidth\": 2, \"linecolor\": \"white\", \"showbackground\": true, \"ticks\": \"\", \"zerolinecolor\": \"white\"}}, \"shapedefaults\": {\"line\": {\"color\": \"#2a3f5f\"}}, \"ternary\": {\"aaxis\": {\"gridcolor\": \"white\", \"linecolor\": \"white\", \"ticks\": \"\"}, \"baxis\": {\"gridcolor\": \"white\", \"linecolor\": \"white\", \"ticks\": \"\"}, \"bgcolor\": \"#E5ECF6\", \"caxis\": {\"gridcolor\": \"white\", \"linecolor\": \"white\", \"ticks\": \"\"}}, \"title\": {\"x\": 0.05}, \"xaxis\": {\"automargin\": true, \"gridcolor\": \"white\", \"linecolor\": \"white\", \"ticks\": \"\", \"title\": {\"standoff\": 15}, \"zerolinecolor\": \"white\", \"zerolinewidth\": 2}, \"yaxis\": {\"automargin\": true, \"gridcolor\": \"white\", \"linecolor\": \"white\", \"ticks\": \"\", \"title\": {\"standoff\": 15}, \"zerolinecolor\": \"white\", \"zerolinewidth\": 2}}}, \"title\": {\"text\": \"\"}, \"width\": 350, \"xaxis\": {\"scaleanchor\": \"y\", \"scaleratio\": 1, \"showgrid\": false, \"showline\": false, \"showticklabels\": false, \"visible\": false, \"zeroline\": false}, \"yaxis\": {\"constrain\": \"domain\", \"range\": [-1, 6.0], \"showgrid\": false, \"showline\": false, \"showticklabels\": false, \"visible\": false, \"zeroline\": false}},                        {\"responsive\": true}                    ).then(function(){\n",
       "                            \n",
       "var gd = document.getElementById('debadbb5-ae80-439a-afd3-026eed1de347');\n",
       "var x = new MutationObserver(function (mutations, observer) {{\n",
       "        var display = window.getComputedStyle(gd).display;\n",
       "        if (!display || display === 'none') {{\n",
       "            console.log([gd, 'removed!']);\n",
       "            Plotly.purge(gd);\n",
       "            observer.disconnect();\n",
       "        }}\n",
       "}});\n",
       "\n",
       "// Listen for the removal of the full notebook cells\n",
       "var notebookContainer = gd.closest('#notebook-container');\n",
       "if (notebookContainer) {{\n",
       "    x.observe(notebookContainer, {childList: true});\n",
       "}}\n",
       "\n",
       "// Listen for the clearing of the current output cell\n",
       "var outputEl = gd.closest('.output');\n",
       "if (outputEl) {{\n",
       "    x.observe(outputEl, {childList: true});\n",
       "}}\n",
       "\n",
       "                        })                };                });            </script>        </div>"
      ]
     },
     "metadata": {},
     "output_type": "display_data"
    }
   ],
   "source": [
    "val_freq_plot(expt3_materials_forChi, 'louise_shopping', 'pos_mat', expt3,\n",
    "                  10,\n",
    "#                   title= str(mat+\" \"+cond), \n",
    "                  x_block_size=10, \n",
    "                  y_block_size=10, \n",
    "                  gap_size=0.5, \n",
    "                  w=35, \n",
    "                  h=45,\n",
    "                  brace_space_left=-0.3,\n",
    "                  brace_space_right=.5)"
   ]
  },
  {
   "cell_type": "markdown",
   "id": "d5e935e7",
   "metadata": {},
   "source": [
    "# DASH"
   ]
  },
  {
   "cell_type": "code",
   "execution_count": 87,
   "id": "7cfbffef",
   "metadata": {
    "scrolled": false,
    "slideshow": {
     "slide_type": "slide"
    }
   },
   "outputs": [
    {
     "data": {
      "text/html": [
       "\n",
       "        <iframe\n",
       "            width=\"100%\"\n",
       "            height=\"650\"\n",
       "            src=\"http://127.0.0.1:8052/\"\n",
       "            frameborder=\"0\"\n",
       "            allowfullscreen\n",
       "        ></iframe>\n",
       "        "
      ],
      "text/plain": [
       "<IPython.lib.display.IFrame at 0x7fe2a0622f60>"
      ]
     },
     "metadata": {},
     "output_type": "display_data"
    }
   ],
   "source": [
    "app = JupyterDash(external_stylesheets=[dbc.themes.BOOTSTRAP])\n",
    "\n",
    "app.css.append_css({'external_url': 'https://codepen.io/chriddyp/pen/bWLwgP.css'})  \n",
    "\n",
    "app.layout = html.Div(children=[\n",
    "    \n",
    "    \n",
    "# these dropdowns need to change the graphs, \n",
    "    # and also the material scenarios \n",
    "\n",
    "\n",
    "#Start Experiment 1    \n",
    "    html.Div([\n",
    "        html.H1('Experiment 1 - Predicting the Unexpected'),\n",
    "        html.Label('Select a material scenario:'),\n",
    "        dcc.Dropdown(\n",
    "            id='expt1_material_dropdown',\n",
    "            options=[{'label': i, 'value': i} for i in expt1_materials],\n",
    "            value='louise_shopping'\n",
    "        ),\n",
    "        dbc.Row(\n",
    "            [dbc.Col([html.H2('Something Unexpected'),\n",
    "#                       html.Div(id='unexp_mark'),\n",
    "                      html.Div(dcc.Graph(id='unexp_graph'))],\n",
    "                    width=6),\n",
    "             dbc.Col([html.H2('The Goal was Failed'),\n",
    "#                       html.Div(id='goal_fail_mark'),\n",
    "                      html.Div(dcc.Graph(id='goal_fail_graph'))],\n",
    "                    width=6),\n",
    "            ]\n",
    "        ),\n",
    "        dbc.Row(\n",
    "            [dbc.Col([html.H2('Good and Unexpected'),\n",
    "#                       html.Div(id='good_mark'),\n",
    "                      html.Div(dcc.Graph(id='unexp_good_graph'))],\n",
    "                    width=6),\n",
    "             dbc.Col([html.H2('Bad and Unexpected'),\n",
    "#                       html.Div(id='bad_mark'),\n",
    "                      html.Div(dcc.Graph(id='unexp_bad_graph'))],\n",
    "                    width=6),\n",
    "            ]\n",
    "        )\n",
    "        ]),\n",
    "    \n",
    "    \n",
    "#Put Experiment 2 Here    \n",
    "    \n",
    "    \n",
    "    \n",
    "    \n",
    "    \n",
    "#Start Experiment 3\n",
    "    html.Div([\n",
    "        html.H1('Experiment 3 - Valenced Materials'),\n",
    "        html.Label('Select a material scenario:'),\n",
    "        dcc.Dropdown(\n",
    "            id='expt3_material_dropdown',\n",
    "            options=[{'label': i, 'value': i} for i in materials],\n",
    "            value='louise_shopping'\n",
    "        ),\n",
    "        dbc.Row(\n",
    "            [dbc.Col([html.H2('Positive'),\n",
    "                      html.Div(id='posi_mark'),\n",
    "                      html.Div(dcc.Graph(id='posi_graph'))],\n",
    "                    width=6),\n",
    "             dbc.Col([html.H2('Negative'),\n",
    "                      html.Div(id='nega_mark'),\n",
    "                      html.Div(dcc.Graph(id='nega_graph'))],\n",
    "                    width=6),\n",
    "            ]\n",
    "        )\n",
    "        ])\n",
    "    \n",
    "]) #end layout\n",
    "\n",
    "\n",
    "#expt1 dropdown functionality\n",
    "@app.callback(\n",
    "        [dash.dependencies.Output('unexp_graph', 'figure'),\n",
    "         dash.dependencies.Output('goal_fail_graph', 'figure'),\n",
    "         dash.dependencies.Output('unexp_bad_graph', 'figure'),\n",
    "         dash.dependencies.Output('unexp_good_graph', 'figure'),\n",
    "        ],\n",
    "        dash.dependencies.Input('expt1_material_dropdown','value')\n",
    "    )\n",
    "def update_figure(selected_material):\n",
    "    \n",
    "    unexp_fig = val_freq_plot(expt1_materials_forChi, selected_material,'UNEXP', expt1,\n",
    "                  8,\n",
    "#                   title= str(mat+\" \"+cond), \n",
    "                  x_block_size=10, \n",
    "                  y_block_size=10, \n",
    "                  gap_size=0.5, \n",
    "                  w=32, \n",
    "                  h=45,\n",
    "                  brace_space_left=-0.3,\n",
    "                  brace_space_right=.5)\n",
    "    goal_fail_fig = val_freq_plot(expt1_materials_forChi, selected_material,'GOAL-FAIL', expt1,\n",
    "                  8,\n",
    "#                   title= str(mat+\" \"+cond), \n",
    "                  x_block_size=10, \n",
    "                  y_block_size=10, \n",
    "                  gap_size=0.5, \n",
    "                  w=32, \n",
    "                  h=45,\n",
    "                  brace_space_left=-0.3,\n",
    "                  brace_space_right=.5)\n",
    "    unexp_bad_fig = val_freq_plot(expt1_materials_forChi, selected_material,'UNEXP-BAD', expt1,\n",
    "                  8,\n",
    "#                   title= str(mat+\" \"+cond), \n",
    "                  x_block_size=10, \n",
    "                  y_block_size=10, \n",
    "                  gap_size=0.5, \n",
    "                  w=32, \n",
    "                  h=45,\n",
    "                  brace_space_left=-0.3,\n",
    "                  brace_space_right=.5)\n",
    "    unexp_good_fig = val_freq_plot(expt1_materials_forChi, selected_material, 'UNEXP-GOOD', expt1,\n",
    "                  8,\n",
    "#                   title= str(mat+\" \"+cond), \n",
    "                  x_block_size=10, \n",
    "                  y_block_size=10, \n",
    "                  gap_size=0.5, \n",
    "                  w=32, \n",
    "                  h=45,\n",
    "                  brace_space_left=-0.3,\n",
    "                  brace_space_right=.5)\n",
    "    \n",
    "    \n",
    "    return unexp_fig, goal_fail_fig, unexp_bad_fig, unexp_good_fig\n",
    "\n",
    "\n",
    "\n",
    "\n",
    "#expt3 dropdown functionality\n",
    "@app.callback(\n",
    "        [dash.dependencies.Output('posi_graph', 'figure'),\n",
    "         dash.dependencies.Output('nega_graph', 'figure'),\n",
    "         dash.dependencies.Output('posi_mark', 'children'),\n",
    "         dash.dependencies.Output('nega_mark', 'children'),\n",
    "        ],\n",
    "        dash.dependencies.Input('expt3_material_dropdown','value')\n",
    "    )\n",
    "def update_figure(selected_material):\n",
    "    \n",
    "    pos_fig = val_freq_plot(expt3_materials_forChi, selected_material,'pos_mat', expt3,\n",
    "                  10,\n",
    "#                   title= str(mat+\" \"+cond), \n",
    "                  x_block_size=10, \n",
    "                  y_block_size=10, \n",
    "                  gap_size=0.5, \n",
    "                  w=30, \n",
    "                  h=40,\n",
    "                  brace_space_left=-0.3,\n",
    "                  brace_space_right=.5)\n",
    "    neg_fig = val_freq_plot(expt3_materials_forChi, selected_material,'neg_mat', expt3,\n",
    "                  10,\n",
    "#                   title= str(mat+\" \"+cond), \n",
    "                  x_block_size=10, \n",
    "                  y_block_size=10, \n",
    "                  gap_size=0.5, \n",
    "                  w=30, \n",
    "                  h=40,\n",
    "                  brace_space_left=-0.3,\n",
    "                  brace_space_right=.5)\n",
    "    \n",
    "    pos_mark = dcc.Markdown(dict_scenarios[selected_material]['pos'])\n",
    "    neg_mark = dcc.Markdown(dict_scenarios[selected_material]['neg'])\n",
    "    \n",
    "    return pos_fig, neg_fig, pos_mark, neg_mark\n",
    "\n",
    "\n",
    "\n",
    "app.run_server(mode='inline', host = '127.0.0.1', port = 8052, debug=False)"
   ]
  },
  {
   "cell_type": "code",
   "execution_count": null,
   "id": "e5781bba",
   "metadata": {},
   "outputs": [],
   "source": []
  }
 ],
 "metadata": {
  "celltoolbar": "Slideshow",
  "kernelspec": {
   "display_name": "Python 3",
   "language": "python",
   "name": "python3"
  },
  "language_info": {
   "codemirror_mode": {
    "name": "ipython",
    "version": 3
   },
   "file_extension": ".py",
   "mimetype": "text/x-python",
   "name": "python",
   "nbconvert_exporter": "python",
   "pygments_lexer": "ipython3",
   "version": "3.6.8"
  },
  "toc": {
   "base_numbering": 1,
   "nav_menu": {},
   "number_sections": true,
   "sideBar": true,
   "skip_h1_title": false,
   "title_cell": "Table of Contents",
   "title_sidebar": "Contents",
   "toc_cell": false,
   "toc_position": {
    "height": "calc(100% - 180px)",
    "left": "10px",
    "top": "150px",
    "width": "165px"
   },
   "toc_section_display": true,
   "toc_window_display": true
  }
 },
 "nbformat": 4,
 "nbformat_minor": 5
}
