{
 "cells": [
  {
   "cell_type": "markdown",
   "metadata": {},
   "source": [
    "# Explanation of this Repository\n",
    "The three datasets described in this repository were collected from online experiments distributed via Prolific.co participant system. Together, the three datasets comprise 9,720 text responses of unexpected events participants predicted for everyday scenarios such as going shopping or preparing breakfast. Each event was labelled by at least two independent, human raters on their topic or category (relative to their initial scenario), the valence or sentiment of the event, and whether or not the event mentions words related to the goal stated in the initial scenario. We also include summary data from a pre- and post-test conducted in the course of these experiments, as well as the analysis code in the form of Jupyter Notebooks. We provide this data and relevant code for transparency and reproducibility alongside our paper under review (see Quinn, Campbell, and Keane, submitted).  The dataset could be useful in training machine learning models on valence/sentiment of everyday unexpected events. "
   ]
  },
  {
   "cell_type": "markdown",
   "metadata": {},
   "source": [
    "# Project Folders and Files\n",
    "* 0_data/ # contains all the raw and/or labelled data files for the experiments in this project\n",
    "    * 0_Experiment1 \n",
    "        * contains the labelled data for Experiment 1, post consensus, as a single file\n",
    "    * 1_Experiment2 \n",
    "        * contains the labelled data for Experiment 2, post consensus, as individual files by material\n",
    "    * 2_PostTest \n",
    "        * contains the individual responses made to each material in the post-test\n",
    "        * also contains the analyzed data for the PostTest, as frequencies of each valence category per material\n",
    "    * 3_Experiment3 \n",
    "        * contains the labelled data for Experiment 3, post consensus, as a single file.  \n",
    "        * also contains the data from the pre-test vetting of materials used in Experiment 3\n",
    "        \n",
    "* 1_code/\n",
    "    * '0_Experiment1.ipynb'\n",
    "        * Jupyter Notebook (Python code) comprising the descriptive and statistical analysis related to Experiment 1\n",
    "    * '1_Experiment2.ipynb'\n",
    "        * Jupyter Notebook (Python code) comprising the descriptive and statistical analysis related to Experiment 2\n",
    "    * '2_PostTest.ipynb'\n",
    "        * Jupyter Notebook (Python code) comprising the descriptive and statistical analysis related to the Post-Test \n",
    "    * '3_Experiment3.ipynb'\n",
    "        * Jupyter Notebook (Python code) comprising the descriptive and statistical analysis related to Experiment 3\n",
    "* 2_pipeline/\n",
    "    * expt1_master_data.csv\n",
    "        * the cleaned master data file used for analyses in Experiment 1\n",
    "    * expt2_master_data.csv\n",
    "        * the cleaned master data file used for analyses in Experiment 2\n",
    "* 3_materials/\n",
    "    * material_set1\n",
    "        * materials and response labels used in Experiments 1 and 2\n",
    "    * material_set2\n",
    "        * materials and response labels used in Experiment 3"
   ]
  }
 ],
 "metadata": {
  "kernelspec": {
   "display_name": "Python 3",
   "language": "python",
   "name": "python3"
  },
  "language_info": {
   "codemirror_mode": {
    "name": "ipython",
    "version": 3
   },
   "file_extension": ".py",
   "mimetype": "text/x-python",
   "name": "python",
   "nbconvert_exporter": "python",
   "pygments_lexer": "ipython3",
   "version": "3.6.8"
  },
  "toc": {
   "base_numbering": 1,
   "nav_menu": {},
   "number_sections": true,
   "sideBar": true,
   "skip_h1_title": false,
   "title_cell": "Table of Contents",
   "title_sidebar": "Contents",
   "toc_cell": false,
   "toc_position": {},
   "toc_section_display": true,
   "toc_window_display": false
  }
 },
 "nbformat": 4,
 "nbformat_minor": 2
}
